{
 "cells": [
  {
   "cell_type": "markdown",
   "metadata": {},
   "source": [
    "## Part 1: Input the data"
   ]
  },
  {
   "cell_type": "code",
   "execution_count": 1,
   "metadata": {},
   "outputs": [],
   "source": [
    "import sqlite3\n",
    "import pandas as pd\n",
    "import numpy as np\n",
    "import matplotlib.pyplot as plt\n",
    "from sklearn.linear_model import LinearRegression\n",
    "import scipy.stats as stats\n",
    "\n",
    "import warnings\n",
    "warnings.filterwarnings(\"ignore\")\n",
    "\n",
    "connect = sqlite3.connect(\"rmp_database.sqlite\")"
   ]
  },
  {
   "cell_type": "code",
   "execution_count": 2,
   "metadata": {},
   "outputs": [],
   "source": [
    "#integrate SQLite3 with pandas to read info from professors table\n",
    "professors = pd.read_sql(\"SELECT * FROM professors;\", connect) \n",
    "\n",
    "#integrate SQLite3 with pandas to read info from reviews table\n",
    "reviews = pd.read_sql(\"SELECT * FROM reviews;\", connect) "
   ]
  },
  {
   "cell_type": "markdown",
   "metadata": {},
   "source": [
    "## Overview of the data"
   ]
  },
  {
   "cell_type": "code",
   "execution_count": 3,
   "metadata": {},
   "outputs": [
    {
     "data": {
      "text/html": [
       "<div>\n",
       "<style scoped>\n",
       "    .dataframe tbody tr th:only-of-type {\n",
       "        vertical-align: middle;\n",
       "    }\n",
       "\n",
       "    .dataframe tbody tr th {\n",
       "        vertical-align: top;\n",
       "    }\n",
       "\n",
       "    .dataframe thead th {\n",
       "        text-align: right;\n",
       "    }\n",
       "</style>\n",
       "<table border=\"1\" class=\"dataframe\">\n",
       "  <thead>\n",
       "    <tr style=\"text-align: right;\">\n",
       "      <th></th>\n",
       "      <th>prof_id</th>\n",
       "      <th>post_date</th>\n",
       "      <th>name_onlines</th>\n",
       "      <th>student_star</th>\n",
       "      <th>student_difficult</th>\n",
       "      <th>attence</th>\n",
       "      <th>for_credits</th>\n",
       "      <th>would_take_agains</th>\n",
       "      <th>grades</th>\n",
       "      <th>stu_tags</th>\n",
       "      <th>help_useful</th>\n",
       "      <th>help_not_useful</th>\n",
       "      <th>comments</th>\n",
       "    </tr>\n",
       "  </thead>\n",
       "  <tbody>\n",
       "    <tr>\n",
       "      <th>0</th>\n",
       "      <td>0</td>\n",
       "      <td>08/19/2010</td>\n",
       "      <td>UP347</td>\n",
       "      <td>3.5</td>\n",
       "      <td>2.0</td>\n",
       "      <td>None</td>\n",
       "      <td>None</td>\n",
       "      <td>None</td>\n",
       "      <td>None</td>\n",
       "      <td>None</td>\n",
       "      <td>0</td>\n",
       "      <td>0</td>\n",
       "      <td>Good guy, laid back and interested in his fiel...</td>\n",
       "    </tr>\n",
       "    <tr>\n",
       "      <th>1</th>\n",
       "      <td>1</td>\n",
       "      <td>03/07/2013</td>\n",
       "      <td>HUDE0111</td>\n",
       "      <td>5.0</td>\n",
       "      <td>1.0</td>\n",
       "      <td>None</td>\n",
       "      <td>None</td>\n",
       "      <td>None</td>\n",
       "      <td>None</td>\n",
       "      <td>None</td>\n",
       "      <td>0</td>\n",
       "      <td>0</td>\n",
       "      <td>such a fun professor. really helpful and knows...</td>\n",
       "    </tr>\n",
       "    <tr>\n",
       "      <th>2</th>\n",
       "      <td>1</td>\n",
       "      <td>10/14/2011</td>\n",
       "      <td>HUDE0111</td>\n",
       "      <td>5.0</td>\n",
       "      <td>1.0</td>\n",
       "      <td>None</td>\n",
       "      <td>None</td>\n",
       "      <td>None</td>\n",
       "      <td>None</td>\n",
       "      <td>None</td>\n",
       "      <td>0</td>\n",
       "      <td>0</td>\n",
       "      <td>Such a easy class. It\\'s simple. Do your homew...</td>\n",
       "    </tr>\n",
       "    <tr>\n",
       "      <th>3</th>\n",
       "      <td>2</td>\n",
       "      <td>09/05/2017</td>\n",
       "      <td>PHIL507</td>\n",
       "      <td>5.0</td>\n",
       "      <td>5.0</td>\n",
       "      <td>Mandatory</td>\n",
       "      <td>Yes</td>\n",
       "      <td>Yes</td>\n",
       "      <td>A</td>\n",
       "      <td>ACCESSIBLE OUTSIDE CLASS  GET READY TO READ  T...</td>\n",
       "      <td>0</td>\n",
       "      <td>0</td>\n",
       "      <td>A very hard class, and a massive amount of wor...</td>\n",
       "    </tr>\n",
       "    <tr>\n",
       "      <th>4</th>\n",
       "      <td>2</td>\n",
       "      <td>07/17/2017</td>\n",
       "      <td>PHL110E</td>\n",
       "      <td>1.0</td>\n",
       "      <td>4.0</td>\n",
       "      <td>Mandatory</td>\n",
       "      <td>Yes</td>\n",
       "      <td>No</td>\n",
       "      <td>None</td>\n",
       "      <td>LOTS OF HOMEWORK  GET READY TO READ  TOUGH GRADER</td>\n",
       "      <td>0</td>\n",
       "      <td>2</td>\n",
       "      <td>Took 100 level class for Ethics offered online...</td>\n",
       "    </tr>\n",
       "    <tr>\n",
       "      <th>5</th>\n",
       "      <td>2</td>\n",
       "      <td>01/16/2010</td>\n",
       "      <td>PHIL200</td>\n",
       "      <td>3.5</td>\n",
       "      <td>4.0</td>\n",
       "      <td>None</td>\n",
       "      <td>None</td>\n",
       "      <td>None</td>\n",
       "      <td>None</td>\n",
       "      <td>None</td>\n",
       "      <td>0</td>\n",
       "      <td>1</td>\n",
       "      <td>No Comments</td>\n",
       "    </tr>\n",
       "    <tr>\n",
       "      <th>6</th>\n",
       "      <td>2</td>\n",
       "      <td>07/29/2009</td>\n",
       "      <td>PHL252</td>\n",
       "      <td>5.0</td>\n",
       "      <td>5.0</td>\n",
       "      <td>None</td>\n",
       "      <td>None</td>\n",
       "      <td>None</td>\n",
       "      <td>None</td>\n",
       "      <td>None</td>\n",
       "      <td>5</td>\n",
       "      <td>1</td>\n",
       "      <td>She is an extremely demanding professor. The w...</td>\n",
       "    </tr>\n",
       "    <tr>\n",
       "      <th>7</th>\n",
       "      <td>3</td>\n",
       "      <td>01/23/2010</td>\n",
       "      <td>PSYX352</td>\n",
       "      <td>3.0</td>\n",
       "      <td>2.0</td>\n",
       "      <td>None</td>\n",
       "      <td>None</td>\n",
       "      <td>None</td>\n",
       "      <td>None</td>\n",
       "      <td>None</td>\n",
       "      <td>0</td>\n",
       "      <td>0</td>\n",
       "      <td>Boo. When I took multicultural psych from Dr. ...</td>\n",
       "    </tr>\n",
       "    <tr>\n",
       "      <th>8</th>\n",
       "      <td>4</td>\n",
       "      <td>07/22/2015</td>\n",
       "      <td>KIN484</td>\n",
       "      <td>5.0</td>\n",
       "      <td>3.0</td>\n",
       "      <td>Mandatory</td>\n",
       "      <td>Yes</td>\n",
       "      <td>None</td>\n",
       "      <td>None</td>\n",
       "      <td>None</td>\n",
       "      <td>0</td>\n",
       "      <td>0</td>\n",
       "      <td>Steph was very helpful and cared about our exp...</td>\n",
       "    </tr>\n",
       "    <tr>\n",
       "      <th>9</th>\n",
       "      <td>4</td>\n",
       "      <td>07/22/2015</td>\n",
       "      <td>KIN483</td>\n",
       "      <td>5.0</td>\n",
       "      <td>2.0</td>\n",
       "      <td>Mandatory</td>\n",
       "      <td>Yes</td>\n",
       "      <td>None</td>\n",
       "      <td>None</td>\n",
       "      <td>BEWARE OF POP QUIZZES  EXTRA CREDIT  SKIP CLAS...</td>\n",
       "      <td>0</td>\n",
       "      <td>0</td>\n",
       "      <td>One of the best classes I took at UM.</td>\n",
       "    </tr>\n",
       "  </tbody>\n",
       "</table>\n",
       "</div>"
      ],
      "text/plain": [
       "   prof_id   post_date name_onlines  student_star  student_difficult  \\\n",
       "0        0  08/19/2010        UP347           3.5                2.0   \n",
       "1        1  03/07/2013     HUDE0111           5.0                1.0   \n",
       "2        1  10/14/2011     HUDE0111           5.0                1.0   \n",
       "3        2  09/05/2017      PHIL507           5.0                5.0   \n",
       "4        2  07/17/2017      PHL110E           1.0                4.0   \n",
       "5        2  01/16/2010      PHIL200           3.5                4.0   \n",
       "6        2  07/29/2009       PHL252           5.0                5.0   \n",
       "7        3  01/23/2010      PSYX352           3.0                2.0   \n",
       "8        4  07/22/2015       KIN484           5.0                3.0   \n",
       "9        4  07/22/2015       KIN483           5.0                2.0   \n",
       "\n",
       "     attence for_credits would_take_agains grades  \\\n",
       "0       None        None              None   None   \n",
       "1       None        None              None   None   \n",
       "2       None        None              None   None   \n",
       "3  Mandatory         Yes               Yes      A   \n",
       "4  Mandatory         Yes                No   None   \n",
       "5       None        None              None   None   \n",
       "6       None        None              None   None   \n",
       "7       None        None              None   None   \n",
       "8  Mandatory         Yes              None   None   \n",
       "9  Mandatory         Yes              None   None   \n",
       "\n",
       "                                            stu_tags  help_useful  \\\n",
       "0                                               None            0   \n",
       "1                                               None            0   \n",
       "2                                               None            0   \n",
       "3  ACCESSIBLE OUTSIDE CLASS  GET READY TO READ  T...            0   \n",
       "4  LOTS OF HOMEWORK  GET READY TO READ  TOUGH GRADER            0   \n",
       "5                                               None            0   \n",
       "6                                               None            5   \n",
       "7                                               None            0   \n",
       "8                                               None            0   \n",
       "9  BEWARE OF POP QUIZZES  EXTRA CREDIT  SKIP CLAS...            0   \n",
       "\n",
       "   help_not_useful                                           comments  \n",
       "0                0  Good guy, laid back and interested in his fiel...  \n",
       "1                0  such a fun professor. really helpful and knows...  \n",
       "2                0  Such a easy class. It\\'s simple. Do your homew...  \n",
       "3                0  A very hard class, and a massive amount of wor...  \n",
       "4                2  Took 100 level class for Ethics offered online...  \n",
       "5                1                                        No Comments  \n",
       "6                1  She is an extremely demanding professor. The w...  \n",
       "7                0  Boo. When I took multicultural psych from Dr. ...  \n",
       "8                0  Steph was very helpful and cared about our exp...  \n",
       "9                0              One of the best classes I took at UM.  "
      ]
     },
     "execution_count": 3,
     "metadata": {},
     "output_type": "execute_result"
    }
   ],
   "source": [
    "#have a look the first 10 columns of info from reviews table \n",
    "reviews.head(10) "
   ]
  },
  {
   "cell_type": "code",
   "execution_count": 4,
   "metadata": {},
   "outputs": [
    {
     "name": "stdout",
     "output_type": "stream",
     "text": [
      "<class 'pandas.core.frame.DataFrame'>\n",
      "RangeIndex: 19685 entries, 0 to 19684\n",
      "Data columns (total 13 columns):\n",
      " #   Column             Non-Null Count  Dtype  \n",
      "---  ------             --------------  -----  \n",
      " 0   prof_id            19685 non-null  int64  \n",
      " 1   post_date          19672 non-null  object \n",
      " 2   name_onlines       19685 non-null  object \n",
      " 3   student_star       19672 non-null  float64\n",
      " 4   student_difficult  19672 non-null  float64\n",
      " 5   attence            5232 non-null   object \n",
      " 6   for_credits        5529 non-null   object \n",
      " 7   would_take_agains  3524 non-null   object \n",
      " 8   grades             4271 non-null   object \n",
      " 9   stu_tags           4975 non-null   object \n",
      " 10  help_useful        19685 non-null  int64  \n",
      " 11  help_not_useful    19685 non-null  int64  \n",
      " 12  comments           19584 non-null  object \n",
      "dtypes: float64(2), int64(3), object(8)\n",
      "memory usage: 2.0+ MB\n"
     ]
    }
   ],
   "source": [
    "#get a overview info of the reviews table\n",
    "reviews.info() "
   ]
  },
  {
   "cell_type": "code",
   "execution_count": 5,
   "metadata": {},
   "outputs": [
    {
     "data": {
      "text/plain": [
       "prof_id                  0\n",
       "post_date               13\n",
       "name_onlines             0\n",
       "student_star            13\n",
       "student_difficult       13\n",
       "attence              14453\n",
       "for_credits          14156\n",
       "would_take_agains    16161\n",
       "grades               15414\n",
       "stu_tags             14710\n",
       "help_useful              0\n",
       "help_not_useful          0\n",
       "comments               101\n",
       "dtype: int64"
      ]
     },
     "execution_count": 5,
     "metadata": {},
     "output_type": "execute_result"
    }
   ],
   "source": [
    "#get a overview of how many missing values in reviews table\n",
    "reviews.isnull().sum() "
   ]
  },
  {
   "cell_type": "code",
   "execution_count": 6,
   "metadata": {},
   "outputs": [
    {
     "data": {
      "text/html": [
       "<div>\n",
       "<style scoped>\n",
       "    .dataframe tbody tr th:only-of-type {\n",
       "        vertical-align: middle;\n",
       "    }\n",
       "\n",
       "    .dataframe tbody tr th {\n",
       "        vertical-align: top;\n",
       "    }\n",
       "\n",
       "    .dataframe thead th {\n",
       "        text-align: right;\n",
       "    }\n",
       "</style>\n",
       "<table border=\"1\" class=\"dataframe\">\n",
       "  <thead>\n",
       "    <tr style=\"text-align: right;\">\n",
       "      <th></th>\n",
       "      <th>prof_id</th>\n",
       "      <th>professor_name</th>\n",
       "      <th>gender</th>\n",
       "      <th>age</th>\n",
       "      <th>school_name</th>\n",
       "      <th>department_name</th>\n",
       "      <th>local_name</th>\n",
       "      <th>state_name</th>\n",
       "    </tr>\n",
       "  </thead>\n",
       "  <tbody>\n",
       "    <tr>\n",
       "      <th>0</th>\n",
       "      <td>0</td>\n",
       "      <td>Robert  Olshansky</td>\n",
       "      <td>M</td>\n",
       "      <td>1956.0</td>\n",
       "      <td>University Of Illinois at Urbana-Champaign</td>\n",
       "      <td>Urban &amp; Regional Planning department</td>\n",
       "      <td>Champaign\\xe2\\x80\\x93Urbana</td>\n",
       "      <td>IL</td>\n",
       "    </tr>\n",
       "    <tr>\n",
       "      <th>1</th>\n",
       "      <td>1</td>\n",
       "      <td>Marshall  Levett</td>\n",
       "      <td>M</td>\n",
       "      <td>2015.0</td>\n",
       "      <td>Austin Community College</td>\n",
       "      <td>Counseling department</td>\n",
       "      <td>Austin</td>\n",
       "      <td>TX</td>\n",
       "    </tr>\n",
       "    <tr>\n",
       "      <th>2</th>\n",
       "      <td>2</td>\n",
       "      <td>Soazig  Le Bihan</td>\n",
       "      <td>None</td>\n",
       "      <td>NaN</td>\n",
       "      <td>University of Montana - Missoula</td>\n",
       "      <td>Philosophy department</td>\n",
       "      <td>Missoula</td>\n",
       "      <td>MT</td>\n",
       "    </tr>\n",
       "    <tr>\n",
       "      <th>3</th>\n",
       "      <td>3</td>\n",
       "      <td>Gyda  Swayney</td>\n",
       "      <td>F</td>\n",
       "      <td>1952.0</td>\n",
       "      <td>University of Montana - Missoula</td>\n",
       "      <td>Psychology department</td>\n",
       "      <td>Missoula</td>\n",
       "      <td>MT</td>\n",
       "    </tr>\n",
       "    <tr>\n",
       "      <th>4</th>\n",
       "      <td>4</td>\n",
       "      <td>Stephanie  Domitrovich</td>\n",
       "      <td>F</td>\n",
       "      <td>1990.0</td>\n",
       "      <td>University of Montana - Missoula</td>\n",
       "      <td>Health &amp; Human Performance department</td>\n",
       "      <td>Missoula</td>\n",
       "      <td>MT</td>\n",
       "    </tr>\n",
       "    <tr>\n",
       "      <th>5</th>\n",
       "      <td>5</td>\n",
       "      <td>Lawrence  MacDonnell</td>\n",
       "      <td>M</td>\n",
       "      <td>1952.0</td>\n",
       "      <td>St. Francis Xavier University</td>\n",
       "      <td>History department</td>\n",
       "      <td>Antigonish</td>\n",
       "      <td>NS</td>\n",
       "    </tr>\n",
       "    <tr>\n",
       "      <th>6</th>\n",
       "      <td>6</td>\n",
       "      <td>David  Burke</td>\n",
       "      <td>M</td>\n",
       "      <td>1960.0</td>\n",
       "      <td>Pennsylvania College of Technology</td>\n",
       "      <td>Graphic Arts department</td>\n",
       "      <td>Williamsport</td>\n",
       "      <td>PA</td>\n",
       "    </tr>\n",
       "    <tr>\n",
       "      <th>7</th>\n",
       "      <td>7</td>\n",
       "      <td>Dana  Rush</td>\n",
       "      <td>F</td>\n",
       "      <td>1971.0</td>\n",
       "      <td>Pacific Lutheran University</td>\n",
       "      <td>Physics department</td>\n",
       "      <td>Tacoma</td>\n",
       "      <td>WA</td>\n",
       "    </tr>\n",
       "    <tr>\n",
       "      <th>8</th>\n",
       "      <td>8</td>\n",
       "      <td>Angia  MacOmber</td>\n",
       "      <td>F</td>\n",
       "      <td>1964.0</td>\n",
       "      <td>Taylor University</td>\n",
       "      <td>Education department</td>\n",
       "      <td>Upland</td>\n",
       "      <td>IN</td>\n",
       "    </tr>\n",
       "    <tr>\n",
       "      <th>9</th>\n",
       "      <td>9</td>\n",
       "      <td>Ayumi  Gervais</td>\n",
       "      <td>F</td>\n",
       "      <td>2012.0</td>\n",
       "      <td>Grossmont College</td>\n",
       "      <td>Foreign Languages department</td>\n",
       "      <td>El Cajon</td>\n",
       "      <td>CA</td>\n",
       "    </tr>\n",
       "  </tbody>\n",
       "</table>\n",
       "</div>"
      ],
      "text/plain": [
       "   prof_id          professor_name gender     age  \\\n",
       "0        0       Robert  Olshansky      M  1956.0   \n",
       "1        1        Marshall  Levett      M  2015.0   \n",
       "2        2        Soazig  Le Bihan   None     NaN   \n",
       "3        3           Gyda  Swayney      F  1952.0   \n",
       "4        4  Stephanie  Domitrovich      F  1990.0   \n",
       "5        5    Lawrence  MacDonnell      M  1952.0   \n",
       "6        6            David  Burke      M  1960.0   \n",
       "7        7              Dana  Rush      F  1971.0   \n",
       "8        8         Angia  MacOmber      F  1964.0   \n",
       "9        9          Ayumi  Gervais      F  2012.0   \n",
       "\n",
       "                                  school_name  \\\n",
       "0  University Of Illinois at Urbana-Champaign   \n",
       "1                    Austin Community College   \n",
       "2            University of Montana - Missoula   \n",
       "3            University of Montana - Missoula   \n",
       "4            University of Montana - Missoula   \n",
       "5               St. Francis Xavier University   \n",
       "6          Pennsylvania College of Technology   \n",
       "7                 Pacific Lutheran University   \n",
       "8                           Taylor University   \n",
       "9                           Grossmont College   \n",
       "\n",
       "                         department_name                    local_name  \\\n",
       "0   Urban & Regional Planning department   Champaign\\xe2\\x80\\x93Urbana   \n",
       "1                  Counseling department                        Austin   \n",
       "2                  Philosophy department                      Missoula   \n",
       "3                  Psychology department                      Missoula   \n",
       "4  Health & Human Performance department                      Missoula   \n",
       "5                     History department                    Antigonish   \n",
       "6                Graphic Arts department                  Williamsport   \n",
       "7                     Physics department                        Tacoma   \n",
       "8                   Education department                        Upland   \n",
       "9           Foreign Languages department                      El Cajon   \n",
       "\n",
       "  state_name  \n",
       "0         IL  \n",
       "1         TX  \n",
       "2         MT  \n",
       "3         MT  \n",
       "4         MT  \n",
       "5         NS  \n",
       "6         PA  \n",
       "7         WA  \n",
       "8         IN  \n",
       "9         CA  "
      ]
     },
     "execution_count": 6,
     "metadata": {},
     "output_type": "execute_result"
    }
   ],
   "source": [
    "#check the top 10 colums of info from professors table \n",
    "professors.head(10) "
   ]
  },
  {
   "cell_type": "code",
   "execution_count": 7,
   "metadata": {},
   "outputs": [
    {
     "name": "stdout",
     "output_type": "stream",
     "text": [
      "<class 'pandas.core.frame.DataFrame'>\n",
      "RangeIndex: 2770 entries, 0 to 2769\n",
      "Data columns (total 8 columns):\n",
      " #   Column           Non-Null Count  Dtype  \n",
      "---  ------           --------------  -----  \n",
      " 0   prof_id          2770 non-null   int64  \n",
      " 1   professor_name   2770 non-null   object \n",
      " 2   gender           2564 non-null   object \n",
      " 3   age              2564 non-null   float64\n",
      " 4   school_name      2770 non-null   object \n",
      " 5   department_name  2770 non-null   object \n",
      " 6   local_name       2770 non-null   object \n",
      " 7   state_name       2770 non-null   object \n",
      "dtypes: float64(1), int64(1), object(6)\n",
      "memory usage: 173.2+ KB\n"
     ]
    }
   ],
   "source": [
    "#get the overview info from professors table\n",
    "professors.info() "
   ]
  },
  {
   "cell_type": "code",
   "execution_count": 8,
   "metadata": {},
   "outputs": [
    {
     "data": {
      "text/plain": [
       "prof_id              0\n",
       "professor_name       0\n",
       "gender             206\n",
       "age                206\n",
       "school_name          0\n",
       "department_name      0\n",
       "local_name           0\n",
       "state_name           0\n",
       "dtype: int64"
      ]
     },
     "execution_count": 8,
     "metadata": {},
     "output_type": "execute_result"
    }
   ],
   "source": [
    "#get a overview of how many missing values in professors table\n",
    "professors.isnull().sum() "
   ]
  },
  {
   "cell_type": "markdown",
   "metadata": {},
   "source": [
    "# Part 2: Analysis of data\n",
    "In this part, the attributes 'Demographics of the Professor' will be focus in below analyis.\n",
    "Three key research questions need to address:\n",
    "1. How to define the demographic of the professor?\n",
    "2. Which factors affect the professors star rating the most?\n",
    "3. Which kind of professors has higher rating?"
   ]
  },
  {
   "cell_type": "code",
   "execution_count": 9,
   "metadata": {},
   "outputs": [
    {
     "data": {
      "text/html": [
       "<div>\n",
       "<style scoped>\n",
       "    .dataframe tbody tr th:only-of-type {\n",
       "        vertical-align: middle;\n",
       "    }\n",
       "\n",
       "    .dataframe tbody tr th {\n",
       "        vertical-align: top;\n",
       "    }\n",
       "\n",
       "    .dataframe thead th {\n",
       "        text-align: right;\n",
       "    }\n",
       "</style>\n",
       "<table border=\"1\" class=\"dataframe\">\n",
       "  <thead>\n",
       "    <tr style=\"text-align: right;\">\n",
       "      <th></th>\n",
       "      <th>prof_id</th>\n",
       "      <th>professor_name</th>\n",
       "      <th>gender</th>\n",
       "      <th>age</th>\n",
       "      <th>school_name</th>\n",
       "      <th>department_name</th>\n",
       "      <th>local_name</th>\n",
       "      <th>state_name</th>\n",
       "      <th>prof_id</th>\n",
       "      <th>post_date</th>\n",
       "      <th>...</th>\n",
       "      <th>student_star</th>\n",
       "      <th>student_difficult</th>\n",
       "      <th>attence</th>\n",
       "      <th>for_credits</th>\n",
       "      <th>would_take_agains</th>\n",
       "      <th>grades</th>\n",
       "      <th>stu_tags</th>\n",
       "      <th>help_useful</th>\n",
       "      <th>help_not_useful</th>\n",
       "      <th>comments</th>\n",
       "    </tr>\n",
       "  </thead>\n",
       "  <tbody>\n",
       "    <tr>\n",
       "      <th>0</th>\n",
       "      <td>0</td>\n",
       "      <td>Robert  Olshansky</td>\n",
       "      <td>M</td>\n",
       "      <td>1956.0</td>\n",
       "      <td>University Of Illinois at Urbana-Champaign</td>\n",
       "      <td>Urban &amp; Regional Planning department</td>\n",
       "      <td>Champaign\\xe2\\x80\\x93Urbana</td>\n",
       "      <td>IL</td>\n",
       "      <td>0</td>\n",
       "      <td>08/19/2010</td>\n",
       "      <td>...</td>\n",
       "      <td>3.5</td>\n",
       "      <td>2.0</td>\n",
       "      <td>None</td>\n",
       "      <td>None</td>\n",
       "      <td>None</td>\n",
       "      <td>None</td>\n",
       "      <td>None</td>\n",
       "      <td>0</td>\n",
       "      <td>0</td>\n",
       "      <td>Good guy, laid back and interested in his fiel...</td>\n",
       "    </tr>\n",
       "    <tr>\n",
       "      <th>1</th>\n",
       "      <td>1</td>\n",
       "      <td>Marshall  Levett</td>\n",
       "      <td>M</td>\n",
       "      <td>2015.0</td>\n",
       "      <td>Austin Community College</td>\n",
       "      <td>Counseling department</td>\n",
       "      <td>Austin</td>\n",
       "      <td>TX</td>\n",
       "      <td>1</td>\n",
       "      <td>03/07/2013</td>\n",
       "      <td>...</td>\n",
       "      <td>5.0</td>\n",
       "      <td>1.0</td>\n",
       "      <td>None</td>\n",
       "      <td>None</td>\n",
       "      <td>None</td>\n",
       "      <td>None</td>\n",
       "      <td>None</td>\n",
       "      <td>0</td>\n",
       "      <td>0</td>\n",
       "      <td>such a fun professor. really helpful and knows...</td>\n",
       "    </tr>\n",
       "    <tr>\n",
       "      <th>2</th>\n",
       "      <td>1</td>\n",
       "      <td>Marshall  Levett</td>\n",
       "      <td>M</td>\n",
       "      <td>2015.0</td>\n",
       "      <td>Austin Community College</td>\n",
       "      <td>Counseling department</td>\n",
       "      <td>Austin</td>\n",
       "      <td>TX</td>\n",
       "      <td>1</td>\n",
       "      <td>10/14/2011</td>\n",
       "      <td>...</td>\n",
       "      <td>5.0</td>\n",
       "      <td>1.0</td>\n",
       "      <td>None</td>\n",
       "      <td>None</td>\n",
       "      <td>None</td>\n",
       "      <td>None</td>\n",
       "      <td>None</td>\n",
       "      <td>0</td>\n",
       "      <td>0</td>\n",
       "      <td>Such a easy class. It\\'s simple. Do your homew...</td>\n",
       "    </tr>\n",
       "    <tr>\n",
       "      <th>3</th>\n",
       "      <td>2</td>\n",
       "      <td>Soazig  Le Bihan</td>\n",
       "      <td>None</td>\n",
       "      <td>NaN</td>\n",
       "      <td>University of Montana - Missoula</td>\n",
       "      <td>Philosophy department</td>\n",
       "      <td>Missoula</td>\n",
       "      <td>MT</td>\n",
       "      <td>2</td>\n",
       "      <td>01/16/2010</td>\n",
       "      <td>...</td>\n",
       "      <td>3.5</td>\n",
       "      <td>4.0</td>\n",
       "      <td>None</td>\n",
       "      <td>None</td>\n",
       "      <td>None</td>\n",
       "      <td>None</td>\n",
       "      <td>None</td>\n",
       "      <td>0</td>\n",
       "      <td>1</td>\n",
       "      <td>No Comments</td>\n",
       "    </tr>\n",
       "    <tr>\n",
       "      <th>4</th>\n",
       "      <td>2</td>\n",
       "      <td>Soazig  Le Bihan</td>\n",
       "      <td>None</td>\n",
       "      <td>NaN</td>\n",
       "      <td>University of Montana - Missoula</td>\n",
       "      <td>Philosophy department</td>\n",
       "      <td>Missoula</td>\n",
       "      <td>MT</td>\n",
       "      <td>2</td>\n",
       "      <td>07/17/2017</td>\n",
       "      <td>...</td>\n",
       "      <td>1.0</td>\n",
       "      <td>4.0</td>\n",
       "      <td>Mandatory</td>\n",
       "      <td>Yes</td>\n",
       "      <td>No</td>\n",
       "      <td>None</td>\n",
       "      <td>LOTS OF HOMEWORK  GET READY TO READ  TOUGH GRADER</td>\n",
       "      <td>0</td>\n",
       "      <td>2</td>\n",
       "      <td>Took 100 level class for Ethics offered online...</td>\n",
       "    </tr>\n",
       "    <tr>\n",
       "      <th>5</th>\n",
       "      <td>2</td>\n",
       "      <td>Soazig  Le Bihan</td>\n",
       "      <td>None</td>\n",
       "      <td>NaN</td>\n",
       "      <td>University of Montana - Missoula</td>\n",
       "      <td>Philosophy department</td>\n",
       "      <td>Missoula</td>\n",
       "      <td>MT</td>\n",
       "      <td>2</td>\n",
       "      <td>07/29/2009</td>\n",
       "      <td>...</td>\n",
       "      <td>5.0</td>\n",
       "      <td>5.0</td>\n",
       "      <td>None</td>\n",
       "      <td>None</td>\n",
       "      <td>None</td>\n",
       "      <td>None</td>\n",
       "      <td>None</td>\n",
       "      <td>5</td>\n",
       "      <td>1</td>\n",
       "      <td>She is an extremely demanding professor. The w...</td>\n",
       "    </tr>\n",
       "    <tr>\n",
       "      <th>6</th>\n",
       "      <td>2</td>\n",
       "      <td>Soazig  Le Bihan</td>\n",
       "      <td>None</td>\n",
       "      <td>NaN</td>\n",
       "      <td>University of Montana - Missoula</td>\n",
       "      <td>Philosophy department</td>\n",
       "      <td>Missoula</td>\n",
       "      <td>MT</td>\n",
       "      <td>2</td>\n",
       "      <td>09/05/2017</td>\n",
       "      <td>...</td>\n",
       "      <td>5.0</td>\n",
       "      <td>5.0</td>\n",
       "      <td>Mandatory</td>\n",
       "      <td>Yes</td>\n",
       "      <td>Yes</td>\n",
       "      <td>A</td>\n",
       "      <td>ACCESSIBLE OUTSIDE CLASS  GET READY TO READ  T...</td>\n",
       "      <td>0</td>\n",
       "      <td>0</td>\n",
       "      <td>A very hard class, and a massive amount of wor...</td>\n",
       "    </tr>\n",
       "    <tr>\n",
       "      <th>7</th>\n",
       "      <td>3</td>\n",
       "      <td>Gyda  Swayney</td>\n",
       "      <td>F</td>\n",
       "      <td>1952.0</td>\n",
       "      <td>University of Montana - Missoula</td>\n",
       "      <td>Psychology department</td>\n",
       "      <td>Missoula</td>\n",
       "      <td>MT</td>\n",
       "      <td>3</td>\n",
       "      <td>01/23/2010</td>\n",
       "      <td>...</td>\n",
       "      <td>3.0</td>\n",
       "      <td>2.0</td>\n",
       "      <td>None</td>\n",
       "      <td>None</td>\n",
       "      <td>None</td>\n",
       "      <td>None</td>\n",
       "      <td>None</td>\n",
       "      <td>0</td>\n",
       "      <td>0</td>\n",
       "      <td>Boo. When I took multicultural psych from Dr. ...</td>\n",
       "    </tr>\n",
       "    <tr>\n",
       "      <th>8</th>\n",
       "      <td>4</td>\n",
       "      <td>Stephanie  Domitrovich</td>\n",
       "      <td>F</td>\n",
       "      <td>1990.0</td>\n",
       "      <td>University of Montana - Missoula</td>\n",
       "      <td>Health &amp; Human Performance department</td>\n",
       "      <td>Missoula</td>\n",
       "      <td>MT</td>\n",
       "      <td>4</td>\n",
       "      <td>01/16/2013</td>\n",
       "      <td>...</td>\n",
       "      <td>1.0</td>\n",
       "      <td>4.0</td>\n",
       "      <td>None</td>\n",
       "      <td>None</td>\n",
       "      <td>None</td>\n",
       "      <td>None</td>\n",
       "      <td>None</td>\n",
       "      <td>2</td>\n",
       "      <td>0</td>\n",
       "      <td>Stephanie ALWAYS had a mad or bored or \"I coul...</td>\n",
       "    </tr>\n",
       "    <tr>\n",
       "      <th>9</th>\n",
       "      <td>4</td>\n",
       "      <td>Stephanie  Domitrovich</td>\n",
       "      <td>F</td>\n",
       "      <td>1990.0</td>\n",
       "      <td>University of Montana - Missoula</td>\n",
       "      <td>Health &amp; Human Performance department</td>\n",
       "      <td>Missoula</td>\n",
       "      <td>MT</td>\n",
       "      <td>4</td>\n",
       "      <td>01/24/2010</td>\n",
       "      <td>...</td>\n",
       "      <td>1.5</td>\n",
       "      <td>5.0</td>\n",
       "      <td>None</td>\n",
       "      <td>None</td>\n",
       "      <td>None</td>\n",
       "      <td>None</td>\n",
       "      <td>None</td>\n",
       "      <td>0</td>\n",
       "      <td>0</td>\n",
       "      <td>Horrible. I went to class everyday and it stil...</td>\n",
       "    </tr>\n",
       "  </tbody>\n",
       "</table>\n",
       "<p>10 rows × 21 columns</p>\n",
       "</div>"
      ],
      "text/plain": [
       "   prof_id          professor_name gender     age  \\\n",
       "0        0       Robert  Olshansky      M  1956.0   \n",
       "1        1        Marshall  Levett      M  2015.0   \n",
       "2        1        Marshall  Levett      M  2015.0   \n",
       "3        2        Soazig  Le Bihan   None     NaN   \n",
       "4        2        Soazig  Le Bihan   None     NaN   \n",
       "5        2        Soazig  Le Bihan   None     NaN   \n",
       "6        2        Soazig  Le Bihan   None     NaN   \n",
       "7        3           Gyda  Swayney      F  1952.0   \n",
       "8        4  Stephanie  Domitrovich      F  1990.0   \n",
       "9        4  Stephanie  Domitrovich      F  1990.0   \n",
       "\n",
       "                                  school_name  \\\n",
       "0  University Of Illinois at Urbana-Champaign   \n",
       "1                    Austin Community College   \n",
       "2                    Austin Community College   \n",
       "3            University of Montana - Missoula   \n",
       "4            University of Montana - Missoula   \n",
       "5            University of Montana - Missoula   \n",
       "6            University of Montana - Missoula   \n",
       "7            University of Montana - Missoula   \n",
       "8            University of Montana - Missoula   \n",
       "9            University of Montana - Missoula   \n",
       "\n",
       "                         department_name                    local_name  \\\n",
       "0   Urban & Regional Planning department   Champaign\\xe2\\x80\\x93Urbana   \n",
       "1                  Counseling department                        Austin   \n",
       "2                  Counseling department                        Austin   \n",
       "3                  Philosophy department                      Missoula   \n",
       "4                  Philosophy department                      Missoula   \n",
       "5                  Philosophy department                      Missoula   \n",
       "6                  Philosophy department                      Missoula   \n",
       "7                  Psychology department                      Missoula   \n",
       "8  Health & Human Performance department                      Missoula   \n",
       "9  Health & Human Performance department                      Missoula   \n",
       "\n",
       "  state_name  prof_id   post_date  ... student_star  student_difficult  \\\n",
       "0         IL        0  08/19/2010  ...          3.5                2.0   \n",
       "1         TX        1  03/07/2013  ...          5.0                1.0   \n",
       "2         TX        1  10/14/2011  ...          5.0                1.0   \n",
       "3         MT        2  01/16/2010  ...          3.5                4.0   \n",
       "4         MT        2  07/17/2017  ...          1.0                4.0   \n",
       "5         MT        2  07/29/2009  ...          5.0                5.0   \n",
       "6         MT        2  09/05/2017  ...          5.0                5.0   \n",
       "7         MT        3  01/23/2010  ...          3.0                2.0   \n",
       "8         MT        4  01/16/2013  ...          1.0                4.0   \n",
       "9         MT        4  01/24/2010  ...          1.5                5.0   \n",
       "\n",
       "     attence for_credits would_take_agains grades  \\\n",
       "0       None        None              None   None   \n",
       "1       None        None              None   None   \n",
       "2       None        None              None   None   \n",
       "3       None        None              None   None   \n",
       "4  Mandatory         Yes                No   None   \n",
       "5       None        None              None   None   \n",
       "6  Mandatory         Yes               Yes      A   \n",
       "7       None        None              None   None   \n",
       "8       None        None              None   None   \n",
       "9       None        None              None   None   \n",
       "\n",
       "                                            stu_tags help_useful  \\\n",
       "0                                               None           0   \n",
       "1                                               None           0   \n",
       "2                                               None           0   \n",
       "3                                               None           0   \n",
       "4  LOTS OF HOMEWORK  GET READY TO READ  TOUGH GRADER           0   \n",
       "5                                               None           5   \n",
       "6  ACCESSIBLE OUTSIDE CLASS  GET READY TO READ  T...           0   \n",
       "7                                               None           0   \n",
       "8                                               None           2   \n",
       "9                                               None           0   \n",
       "\n",
       "   help_not_useful                                           comments  \n",
       "0                0  Good guy, laid back and interested in his fiel...  \n",
       "1                0  such a fun professor. really helpful and knows...  \n",
       "2                0  Such a easy class. It\\'s simple. Do your homew...  \n",
       "3                1                                        No Comments  \n",
       "4                2  Took 100 level class for Ethics offered online...  \n",
       "5                1  She is an extremely demanding professor. The w...  \n",
       "6                0  A very hard class, and a massive amount of wor...  \n",
       "7                0  Boo. When I took multicultural psych from Dr. ...  \n",
       "8                0  Stephanie ALWAYS had a mad or bored or \"I coul...  \n",
       "9                0  Horrible. I went to class everyday and it stil...  \n",
       "\n",
       "[10 rows x 21 columns]"
      ]
     },
     "execution_count": 9,
     "metadata": {},
     "output_type": "execute_result"
    }
   ],
   "source": [
    "#In this research, the demographic of the professor included: Gender and Age. \n",
    "#Details analysis of the research will be shown in below.\n",
    "#Based on the overview of professors and reviews table, two tables need to join together in order to observe the relationships between them.\n",
    "\n",
    "#query to join the professors and reviews table tgt by the same prof_id\n",
    "query = \"SELECT *\\\n",
    "        FROM professors pro\\\n",
    "        JOIN reviews rev\\\n",
    "        ON pro.prof_id = rev.prof_id;\" \n",
    "\n",
    "#join two tables tgt\n",
    "combine = pd.read_sql(query, connect) \n",
    "\n",
    "#show top 10 colums of the combine table\n",
    "combine.head(10) "
   ]
  },
  {
   "cell_type": "code",
   "execution_count": 10,
   "metadata": {},
   "outputs": [
    {
     "name": "stdout",
     "output_type": "stream",
     "text": [
      "<class 'pandas.core.frame.DataFrame'>\n",
      "RangeIndex: 19685 entries, 0 to 19684\n",
      "Data columns (total 21 columns):\n",
      " #   Column             Non-Null Count  Dtype  \n",
      "---  ------             --------------  -----  \n",
      " 0   prof_id            19685 non-null  int64  \n",
      " 1   professor_name     19685 non-null  object \n",
      " 2   gender             18145 non-null  object \n",
      " 3   age                18145 non-null  float64\n",
      " 4   school_name        19685 non-null  object \n",
      " 5   department_name    19685 non-null  object \n",
      " 6   local_name         19685 non-null  object \n",
      " 7   state_name         19685 non-null  object \n",
      " 8   prof_id            19685 non-null  int64  \n",
      " 9   post_date          19672 non-null  object \n",
      " 10  name_onlines       19685 non-null  object \n",
      " 11  student_star       19672 non-null  float64\n",
      " 12  student_difficult  19672 non-null  float64\n",
      " 13  attence            5232 non-null   object \n",
      " 14  for_credits        5529 non-null   object \n",
      " 15  would_take_agains  3524 non-null   object \n",
      " 16  grades             4271 non-null   object \n",
      " 17  stu_tags           4975 non-null   object \n",
      " 18  help_useful        19685 non-null  int64  \n",
      " 19  help_not_useful    19685 non-null  int64  \n",
      " 20  comments           19584 non-null  object \n",
      "dtypes: float64(3), int64(4), object(14)\n",
      "memory usage: 3.2+ MB\n"
     ]
    }
   ],
   "source": [
    "#show the gnereal information of the combine table\n",
    "combine.info() "
   ]
  },
  {
   "cell_type": "code",
   "execution_count": 11,
   "metadata": {},
   "outputs": [
    {
     "data": {
      "text/plain": [
       "prof_id                  0\n",
       "professor_name           0\n",
       "gender                1540\n",
       "age                   1540\n",
       "school_name              0\n",
       "department_name          0\n",
       "local_name               0\n",
       "state_name               0\n",
       "prof_id                  0\n",
       "post_date               13\n",
       "name_onlines             0\n",
       "student_star            13\n",
       "student_difficult       13\n",
       "attence              14453\n",
       "for_credits          14156\n",
       "would_take_agains    16161\n",
       "grades               15414\n",
       "stu_tags             14710\n",
       "help_useful              0\n",
       "help_not_useful          0\n",
       "comments               101\n",
       "dtype: int64"
      ]
     },
     "execution_count": 11,
     "metadata": {},
     "output_type": "execute_result"
    }
   ],
   "source": [
    "#get a overview of the missing values in combine table\n",
    "combine.isnull().sum() "
   ]
  },
  {
   "cell_type": "code",
   "execution_count": 12,
   "metadata": {},
   "outputs": [],
   "source": [
    "#Because the prof_id is doubled so i delected and combined two into one \n",
    "combine = combine.drop(\"prof_id\", axis=1)\n",
    "combine['prof_id'] = reviews['prof_id'] "
   ]
  },
  {
   "cell_type": "code",
   "execution_count": 13,
   "metadata": {},
   "outputs": [
    {
     "data": {
      "text/html": [
       "<div>\n",
       "<style scoped>\n",
       "    .dataframe tbody tr th:only-of-type {\n",
       "        vertical-align: middle;\n",
       "    }\n",
       "\n",
       "    .dataframe tbody tr th {\n",
       "        vertical-align: top;\n",
       "    }\n",
       "\n",
       "    .dataframe thead th {\n",
       "        text-align: right;\n",
       "    }\n",
       "</style>\n",
       "<table border=\"1\" class=\"dataframe\">\n",
       "  <thead>\n",
       "    <tr style=\"text-align: right;\">\n",
       "      <th></th>\n",
       "      <th>professor_name</th>\n",
       "      <th>gender</th>\n",
       "      <th>age</th>\n",
       "      <th>school_name</th>\n",
       "      <th>department_name</th>\n",
       "      <th>local_name</th>\n",
       "      <th>state_name</th>\n",
       "      <th>post_date</th>\n",
       "      <th>name_onlines</th>\n",
       "      <th>student_star</th>\n",
       "      <th>student_difficult</th>\n",
       "      <th>attence</th>\n",
       "      <th>for_credits</th>\n",
       "      <th>would_take_agains</th>\n",
       "      <th>grades</th>\n",
       "      <th>stu_tags</th>\n",
       "      <th>help_useful</th>\n",
       "      <th>help_not_useful</th>\n",
       "      <th>comments</th>\n",
       "      <th>prof_id</th>\n",
       "    </tr>\n",
       "  </thead>\n",
       "  <tbody>\n",
       "    <tr>\n",
       "      <th>0</th>\n",
       "      <td>Robert  Olshansky</td>\n",
       "      <td>M</td>\n",
       "      <td>1956.0</td>\n",
       "      <td>University Of Illinois at Urbana-Champaign</td>\n",
       "      <td>Urban &amp; Regional Planning department</td>\n",
       "      <td>Champaign\\xe2\\x80\\x93Urbana</td>\n",
       "      <td>IL</td>\n",
       "      <td>08/19/2010</td>\n",
       "      <td>UP347</td>\n",
       "      <td>3.5</td>\n",
       "      <td>2.0</td>\n",
       "      <td>None</td>\n",
       "      <td>None</td>\n",
       "      <td>None</td>\n",
       "      <td>None</td>\n",
       "      <td>None</td>\n",
       "      <td>0</td>\n",
       "      <td>0</td>\n",
       "      <td>Good guy, laid back and interested in his fiel...</td>\n",
       "      <td>0</td>\n",
       "    </tr>\n",
       "    <tr>\n",
       "      <th>1</th>\n",
       "      <td>Marshall  Levett</td>\n",
       "      <td>M</td>\n",
       "      <td>2015.0</td>\n",
       "      <td>Austin Community College</td>\n",
       "      <td>Counseling department</td>\n",
       "      <td>Austin</td>\n",
       "      <td>TX</td>\n",
       "      <td>03/07/2013</td>\n",
       "      <td>HUDE0111</td>\n",
       "      <td>5.0</td>\n",
       "      <td>1.0</td>\n",
       "      <td>None</td>\n",
       "      <td>None</td>\n",
       "      <td>None</td>\n",
       "      <td>None</td>\n",
       "      <td>None</td>\n",
       "      <td>0</td>\n",
       "      <td>0</td>\n",
       "      <td>such a fun professor. really helpful and knows...</td>\n",
       "      <td>1</td>\n",
       "    </tr>\n",
       "    <tr>\n",
       "      <th>2</th>\n",
       "      <td>Marshall  Levett</td>\n",
       "      <td>M</td>\n",
       "      <td>2015.0</td>\n",
       "      <td>Austin Community College</td>\n",
       "      <td>Counseling department</td>\n",
       "      <td>Austin</td>\n",
       "      <td>TX</td>\n",
       "      <td>10/14/2011</td>\n",
       "      <td>HUDE0111</td>\n",
       "      <td>5.0</td>\n",
       "      <td>1.0</td>\n",
       "      <td>None</td>\n",
       "      <td>None</td>\n",
       "      <td>None</td>\n",
       "      <td>None</td>\n",
       "      <td>None</td>\n",
       "      <td>0</td>\n",
       "      <td>0</td>\n",
       "      <td>Such a easy class. It\\'s simple. Do your homew...</td>\n",
       "      <td>1</td>\n",
       "    </tr>\n",
       "    <tr>\n",
       "      <th>3</th>\n",
       "      <td>Soazig  Le Bihan</td>\n",
       "      <td>None</td>\n",
       "      <td>NaN</td>\n",
       "      <td>University of Montana - Missoula</td>\n",
       "      <td>Philosophy department</td>\n",
       "      <td>Missoula</td>\n",
       "      <td>MT</td>\n",
       "      <td>01/16/2010</td>\n",
       "      <td>PHIL200</td>\n",
       "      <td>3.5</td>\n",
       "      <td>4.0</td>\n",
       "      <td>None</td>\n",
       "      <td>None</td>\n",
       "      <td>None</td>\n",
       "      <td>None</td>\n",
       "      <td>None</td>\n",
       "      <td>0</td>\n",
       "      <td>1</td>\n",
       "      <td>No Comments</td>\n",
       "      <td>2</td>\n",
       "    </tr>\n",
       "    <tr>\n",
       "      <th>4</th>\n",
       "      <td>Soazig  Le Bihan</td>\n",
       "      <td>None</td>\n",
       "      <td>NaN</td>\n",
       "      <td>University of Montana - Missoula</td>\n",
       "      <td>Philosophy department</td>\n",
       "      <td>Missoula</td>\n",
       "      <td>MT</td>\n",
       "      <td>07/17/2017</td>\n",
       "      <td>PHL110E</td>\n",
       "      <td>1.0</td>\n",
       "      <td>4.0</td>\n",
       "      <td>Mandatory</td>\n",
       "      <td>Yes</td>\n",
       "      <td>No</td>\n",
       "      <td>None</td>\n",
       "      <td>LOTS OF HOMEWORK  GET READY TO READ  TOUGH GRADER</td>\n",
       "      <td>0</td>\n",
       "      <td>2</td>\n",
       "      <td>Took 100 level class for Ethics offered online...</td>\n",
       "      <td>2</td>\n",
       "    </tr>\n",
       "    <tr>\n",
       "      <th>5</th>\n",
       "      <td>Soazig  Le Bihan</td>\n",
       "      <td>None</td>\n",
       "      <td>NaN</td>\n",
       "      <td>University of Montana - Missoula</td>\n",
       "      <td>Philosophy department</td>\n",
       "      <td>Missoula</td>\n",
       "      <td>MT</td>\n",
       "      <td>07/29/2009</td>\n",
       "      <td>PHL252</td>\n",
       "      <td>5.0</td>\n",
       "      <td>5.0</td>\n",
       "      <td>None</td>\n",
       "      <td>None</td>\n",
       "      <td>None</td>\n",
       "      <td>None</td>\n",
       "      <td>None</td>\n",
       "      <td>5</td>\n",
       "      <td>1</td>\n",
       "      <td>She is an extremely demanding professor. The w...</td>\n",
       "      <td>2</td>\n",
       "    </tr>\n",
       "    <tr>\n",
       "      <th>6</th>\n",
       "      <td>Soazig  Le Bihan</td>\n",
       "      <td>None</td>\n",
       "      <td>NaN</td>\n",
       "      <td>University of Montana - Missoula</td>\n",
       "      <td>Philosophy department</td>\n",
       "      <td>Missoula</td>\n",
       "      <td>MT</td>\n",
       "      <td>09/05/2017</td>\n",
       "      <td>PHIL507</td>\n",
       "      <td>5.0</td>\n",
       "      <td>5.0</td>\n",
       "      <td>Mandatory</td>\n",
       "      <td>Yes</td>\n",
       "      <td>Yes</td>\n",
       "      <td>A</td>\n",
       "      <td>ACCESSIBLE OUTSIDE CLASS  GET READY TO READ  T...</td>\n",
       "      <td>0</td>\n",
       "      <td>0</td>\n",
       "      <td>A very hard class, and a massive amount of wor...</td>\n",
       "      <td>2</td>\n",
       "    </tr>\n",
       "    <tr>\n",
       "      <th>7</th>\n",
       "      <td>Gyda  Swayney</td>\n",
       "      <td>F</td>\n",
       "      <td>1952.0</td>\n",
       "      <td>University of Montana - Missoula</td>\n",
       "      <td>Psychology department</td>\n",
       "      <td>Missoula</td>\n",
       "      <td>MT</td>\n",
       "      <td>01/23/2010</td>\n",
       "      <td>PSYX352</td>\n",
       "      <td>3.0</td>\n",
       "      <td>2.0</td>\n",
       "      <td>None</td>\n",
       "      <td>None</td>\n",
       "      <td>None</td>\n",
       "      <td>None</td>\n",
       "      <td>None</td>\n",
       "      <td>0</td>\n",
       "      <td>0</td>\n",
       "      <td>Boo. When I took multicultural psych from Dr. ...</td>\n",
       "      <td>3</td>\n",
       "    </tr>\n",
       "    <tr>\n",
       "      <th>8</th>\n",
       "      <td>Stephanie  Domitrovich</td>\n",
       "      <td>F</td>\n",
       "      <td>1990.0</td>\n",
       "      <td>University of Montana - Missoula</td>\n",
       "      <td>Health &amp; Human Performance department</td>\n",
       "      <td>Missoula</td>\n",
       "      <td>MT</td>\n",
       "      <td>01/16/2013</td>\n",
       "      <td>HHP226</td>\n",
       "      <td>1.0</td>\n",
       "      <td>4.0</td>\n",
       "      <td>None</td>\n",
       "      <td>None</td>\n",
       "      <td>None</td>\n",
       "      <td>None</td>\n",
       "      <td>None</td>\n",
       "      <td>2</td>\n",
       "      <td>0</td>\n",
       "      <td>Stephanie ALWAYS had a mad or bored or \"I coul...</td>\n",
       "      <td>4</td>\n",
       "    </tr>\n",
       "    <tr>\n",
       "      <th>9</th>\n",
       "      <td>Stephanie  Domitrovich</td>\n",
       "      <td>F</td>\n",
       "      <td>1990.0</td>\n",
       "      <td>University of Montana - Missoula</td>\n",
       "      <td>Health &amp; Human Performance department</td>\n",
       "      <td>Missoula</td>\n",
       "      <td>MT</td>\n",
       "      <td>01/24/2010</td>\n",
       "      <td>HHP236</td>\n",
       "      <td>1.5</td>\n",
       "      <td>5.0</td>\n",
       "      <td>None</td>\n",
       "      <td>None</td>\n",
       "      <td>None</td>\n",
       "      <td>None</td>\n",
       "      <td>None</td>\n",
       "      <td>0</td>\n",
       "      <td>0</td>\n",
       "      <td>Horrible. I went to class everyday and it stil...</td>\n",
       "      <td>4</td>\n",
       "    </tr>\n",
       "  </tbody>\n",
       "</table>\n",
       "</div>"
      ],
      "text/plain": [
       "           professor_name gender     age  \\\n",
       "0       Robert  Olshansky      M  1956.0   \n",
       "1        Marshall  Levett      M  2015.0   \n",
       "2        Marshall  Levett      M  2015.0   \n",
       "3        Soazig  Le Bihan   None     NaN   \n",
       "4        Soazig  Le Bihan   None     NaN   \n",
       "5        Soazig  Le Bihan   None     NaN   \n",
       "6        Soazig  Le Bihan   None     NaN   \n",
       "7           Gyda  Swayney      F  1952.0   \n",
       "8  Stephanie  Domitrovich      F  1990.0   \n",
       "9  Stephanie  Domitrovich      F  1990.0   \n",
       "\n",
       "                                  school_name  \\\n",
       "0  University Of Illinois at Urbana-Champaign   \n",
       "1                    Austin Community College   \n",
       "2                    Austin Community College   \n",
       "3            University of Montana - Missoula   \n",
       "4            University of Montana - Missoula   \n",
       "5            University of Montana - Missoula   \n",
       "6            University of Montana - Missoula   \n",
       "7            University of Montana - Missoula   \n",
       "8            University of Montana - Missoula   \n",
       "9            University of Montana - Missoula   \n",
       "\n",
       "                         department_name                    local_name  \\\n",
       "0   Urban & Regional Planning department   Champaign\\xe2\\x80\\x93Urbana   \n",
       "1                  Counseling department                        Austin   \n",
       "2                  Counseling department                        Austin   \n",
       "3                  Philosophy department                      Missoula   \n",
       "4                  Philosophy department                      Missoula   \n",
       "5                  Philosophy department                      Missoula   \n",
       "6                  Philosophy department                      Missoula   \n",
       "7                  Psychology department                      Missoula   \n",
       "8  Health & Human Performance department                      Missoula   \n",
       "9  Health & Human Performance department                      Missoula   \n",
       "\n",
       "  state_name   post_date name_onlines  student_star  student_difficult  \\\n",
       "0         IL  08/19/2010        UP347           3.5                2.0   \n",
       "1         TX  03/07/2013     HUDE0111           5.0                1.0   \n",
       "2         TX  10/14/2011     HUDE0111           5.0                1.0   \n",
       "3         MT  01/16/2010      PHIL200           3.5                4.0   \n",
       "4         MT  07/17/2017      PHL110E           1.0                4.0   \n",
       "5         MT  07/29/2009       PHL252           5.0                5.0   \n",
       "6         MT  09/05/2017      PHIL507           5.0                5.0   \n",
       "7         MT  01/23/2010      PSYX352           3.0                2.0   \n",
       "8         MT  01/16/2013       HHP226           1.0                4.0   \n",
       "9         MT  01/24/2010       HHP236           1.5                5.0   \n",
       "\n",
       "     attence for_credits would_take_agains grades  \\\n",
       "0       None        None              None   None   \n",
       "1       None        None              None   None   \n",
       "2       None        None              None   None   \n",
       "3       None        None              None   None   \n",
       "4  Mandatory         Yes                No   None   \n",
       "5       None        None              None   None   \n",
       "6  Mandatory         Yes               Yes      A   \n",
       "7       None        None              None   None   \n",
       "8       None        None              None   None   \n",
       "9       None        None              None   None   \n",
       "\n",
       "                                            stu_tags  help_useful  \\\n",
       "0                                               None            0   \n",
       "1                                               None            0   \n",
       "2                                               None            0   \n",
       "3                                               None            0   \n",
       "4  LOTS OF HOMEWORK  GET READY TO READ  TOUGH GRADER            0   \n",
       "5                                               None            5   \n",
       "6  ACCESSIBLE OUTSIDE CLASS  GET READY TO READ  T...            0   \n",
       "7                                               None            0   \n",
       "8                                               None            2   \n",
       "9                                               None            0   \n",
       "\n",
       "   help_not_useful                                           comments  prof_id  \n",
       "0                0  Good guy, laid back and interested in his fiel...        0  \n",
       "1                0  such a fun professor. really helpful and knows...        1  \n",
       "2                0  Such a easy class. It\\'s simple. Do your homew...        1  \n",
       "3                1                                        No Comments        2  \n",
       "4                2  Took 100 level class for Ethics offered online...        2  \n",
       "5                1  She is an extremely demanding professor. The w...        2  \n",
       "6                0  A very hard class, and a massive amount of wor...        2  \n",
       "7                0  Boo. When I took multicultural psych from Dr. ...        3  \n",
       "8                0  Stephanie ALWAYS had a mad or bored or \"I coul...        4  \n",
       "9                0  Horrible. I went to class everyday and it stil...        4  "
      ]
     },
     "execution_count": 13,
     "metadata": {},
     "output_type": "execute_result"
    }
   ],
   "source": [
    "#overview of the combine table after combined two prof_id tgt\n",
    "combine.head(10) "
   ]
  },
  {
   "cell_type": "code",
   "execution_count": 14,
   "metadata": {},
   "outputs": [
    {
     "data": {
      "text/plain": [
       "age             1540\n",
       "gender          1540\n",
       "student_star      13\n",
       "post_date         13\n",
       "dtype: int64"
      ]
     },
     "execution_count": 14,
     "metadata": {},
     "output_type": "execute_result"
    }
   ],
   "source": [
    "#Since i chose the gender, age and post_date as the demographic factors and student_star as the result, so the anlysis of those features in below.\n",
    "demo = [\"age\",\"gender\", \"student_star\", \"post_date\"]\n",
    "\n",
    "#check the missing values in particular age,gender and student_star colums in combine table\n",
    "combine[demo].isnull().sum()"
   ]
  },
  {
   "cell_type": "code",
   "execution_count": 15,
   "metadata": {},
   "outputs": [
    {
     "data": {
      "text/html": [
       "<div>\n",
       "<style scoped>\n",
       "    .dataframe tbody tr th:only-of-type {\n",
       "        vertical-align: middle;\n",
       "    }\n",
       "\n",
       "    .dataframe tbody tr th {\n",
       "        vertical-align: top;\n",
       "    }\n",
       "\n",
       "    .dataframe thead th {\n",
       "        text-align: right;\n",
       "    }\n",
       "</style>\n",
       "<table border=\"1\" class=\"dataframe\">\n",
       "  <thead>\n",
       "    <tr style=\"text-align: right;\">\n",
       "      <th></th>\n",
       "      <th>professor_name</th>\n",
       "      <th>gender</th>\n",
       "      <th>age</th>\n",
       "      <th>school_name</th>\n",
       "      <th>department_name</th>\n",
       "      <th>local_name</th>\n",
       "      <th>state_name</th>\n",
       "      <th>post_date</th>\n",
       "      <th>name_onlines</th>\n",
       "      <th>student_star</th>\n",
       "      <th>student_difficult</th>\n",
       "      <th>attence</th>\n",
       "      <th>for_credits</th>\n",
       "      <th>would_take_agains</th>\n",
       "      <th>grades</th>\n",
       "      <th>stu_tags</th>\n",
       "      <th>help_useful</th>\n",
       "      <th>help_not_useful</th>\n",
       "      <th>comments</th>\n",
       "      <th>prof_id</th>\n",
       "    </tr>\n",
       "  </thead>\n",
       "  <tbody>\n",
       "    <tr>\n",
       "      <th>0</th>\n",
       "      <td>Robert  Olshansky</td>\n",
       "      <td>M</td>\n",
       "      <td>1956.0</td>\n",
       "      <td>University Of Illinois at Urbana-Champaign</td>\n",
       "      <td>Urban &amp; Regional Planning department</td>\n",
       "      <td>Champaign\\xe2\\x80\\x93Urbana</td>\n",
       "      <td>IL</td>\n",
       "      <td>08/19/2010</td>\n",
       "      <td>UP347</td>\n",
       "      <td>3.5</td>\n",
       "      <td>2.0</td>\n",
       "      <td>None</td>\n",
       "      <td>None</td>\n",
       "      <td>None</td>\n",
       "      <td>None</td>\n",
       "      <td>None</td>\n",
       "      <td>0</td>\n",
       "      <td>0</td>\n",
       "      <td>Good guy, laid back and interested in his fiel...</td>\n",
       "      <td>0</td>\n",
       "    </tr>\n",
       "    <tr>\n",
       "      <th>1</th>\n",
       "      <td>Marshall  Levett</td>\n",
       "      <td>M</td>\n",
       "      <td>2015.0</td>\n",
       "      <td>Austin Community College</td>\n",
       "      <td>Counseling department</td>\n",
       "      <td>Austin</td>\n",
       "      <td>TX</td>\n",
       "      <td>03/07/2013</td>\n",
       "      <td>HUDE0111</td>\n",
       "      <td>5.0</td>\n",
       "      <td>1.0</td>\n",
       "      <td>None</td>\n",
       "      <td>None</td>\n",
       "      <td>None</td>\n",
       "      <td>None</td>\n",
       "      <td>None</td>\n",
       "      <td>0</td>\n",
       "      <td>0</td>\n",
       "      <td>such a fun professor. really helpful and knows...</td>\n",
       "      <td>1</td>\n",
       "    </tr>\n",
       "    <tr>\n",
       "      <th>2</th>\n",
       "      <td>Marshall  Levett</td>\n",
       "      <td>M</td>\n",
       "      <td>2015.0</td>\n",
       "      <td>Austin Community College</td>\n",
       "      <td>Counseling department</td>\n",
       "      <td>Austin</td>\n",
       "      <td>TX</td>\n",
       "      <td>10/14/2011</td>\n",
       "      <td>HUDE0111</td>\n",
       "      <td>5.0</td>\n",
       "      <td>1.0</td>\n",
       "      <td>None</td>\n",
       "      <td>None</td>\n",
       "      <td>None</td>\n",
       "      <td>None</td>\n",
       "      <td>None</td>\n",
       "      <td>0</td>\n",
       "      <td>0</td>\n",
       "      <td>Such a easy class. It\\'s simple. Do your homew...</td>\n",
       "      <td>1</td>\n",
       "    </tr>\n",
       "    <tr>\n",
       "      <th>7</th>\n",
       "      <td>Gyda  Swayney</td>\n",
       "      <td>F</td>\n",
       "      <td>1952.0</td>\n",
       "      <td>University of Montana - Missoula</td>\n",
       "      <td>Psychology department</td>\n",
       "      <td>Missoula</td>\n",
       "      <td>MT</td>\n",
       "      <td>01/23/2010</td>\n",
       "      <td>PSYX352</td>\n",
       "      <td>3.0</td>\n",
       "      <td>2.0</td>\n",
       "      <td>None</td>\n",
       "      <td>None</td>\n",
       "      <td>None</td>\n",
       "      <td>None</td>\n",
       "      <td>None</td>\n",
       "      <td>0</td>\n",
       "      <td>0</td>\n",
       "      <td>Boo. When I took multicultural psych from Dr. ...</td>\n",
       "      <td>3</td>\n",
       "    </tr>\n",
       "    <tr>\n",
       "      <th>8</th>\n",
       "      <td>Stephanie  Domitrovich</td>\n",
       "      <td>F</td>\n",
       "      <td>1990.0</td>\n",
       "      <td>University of Montana - Missoula</td>\n",
       "      <td>Health &amp; Human Performance department</td>\n",
       "      <td>Missoula</td>\n",
       "      <td>MT</td>\n",
       "      <td>01/16/2013</td>\n",
       "      <td>HHP226</td>\n",
       "      <td>1.0</td>\n",
       "      <td>4.0</td>\n",
       "      <td>None</td>\n",
       "      <td>None</td>\n",
       "      <td>None</td>\n",
       "      <td>None</td>\n",
       "      <td>None</td>\n",
       "      <td>2</td>\n",
       "      <td>0</td>\n",
       "      <td>Stephanie ALWAYS had a mad or bored or \"I coul...</td>\n",
       "      <td>4</td>\n",
       "    </tr>\n",
       "    <tr>\n",
       "      <th>9</th>\n",
       "      <td>Stephanie  Domitrovich</td>\n",
       "      <td>F</td>\n",
       "      <td>1990.0</td>\n",
       "      <td>University of Montana - Missoula</td>\n",
       "      <td>Health &amp; Human Performance department</td>\n",
       "      <td>Missoula</td>\n",
       "      <td>MT</td>\n",
       "      <td>01/24/2010</td>\n",
       "      <td>HHP236</td>\n",
       "      <td>1.5</td>\n",
       "      <td>5.0</td>\n",
       "      <td>None</td>\n",
       "      <td>None</td>\n",
       "      <td>None</td>\n",
       "      <td>None</td>\n",
       "      <td>None</td>\n",
       "      <td>0</td>\n",
       "      <td>0</td>\n",
       "      <td>Horrible. I went to class everyday and it stil...</td>\n",
       "      <td>4</td>\n",
       "    </tr>\n",
       "    <tr>\n",
       "      <th>10</th>\n",
       "      <td>Stephanie  Domitrovich</td>\n",
       "      <td>F</td>\n",
       "      <td>1990.0</td>\n",
       "      <td>University of Montana - Missoula</td>\n",
       "      <td>Health &amp; Human Performance department</td>\n",
       "      <td>Missoula</td>\n",
       "      <td>MT</td>\n",
       "      <td>05/06/2010</td>\n",
       "      <td>HHP236</td>\n",
       "      <td>4.5</td>\n",
       "      <td>4.0</td>\n",
       "      <td>None</td>\n",
       "      <td>None</td>\n",
       "      <td>None</td>\n",
       "      <td>None</td>\n",
       "      <td>None</td>\n",
       "      <td>1</td>\n",
       "      <td>0</td>\n",
       "      <td>She was awesome! If you went to class and list...</td>\n",
       "      <td>4</td>\n",
       "    </tr>\n",
       "    <tr>\n",
       "      <th>11</th>\n",
       "      <td>Stephanie  Domitrovich</td>\n",
       "      <td>F</td>\n",
       "      <td>1990.0</td>\n",
       "      <td>University of Montana - Missoula</td>\n",
       "      <td>Health &amp; Human Performance department</td>\n",
       "      <td>Missoula</td>\n",
       "      <td>MT</td>\n",
       "      <td>07/22/2015</td>\n",
       "      <td>KIN483</td>\n",
       "      <td>5.0</td>\n",
       "      <td>2.0</td>\n",
       "      <td>Mandatory</td>\n",
       "      <td>Yes</td>\n",
       "      <td>None</td>\n",
       "      <td>None</td>\n",
       "      <td>BEWARE OF POP QUIZZES  EXTRA CREDIT  SKIP CLAS...</td>\n",
       "      <td>0</td>\n",
       "      <td>0</td>\n",
       "      <td>One of the best classes I took at UM.</td>\n",
       "      <td>4</td>\n",
       "    </tr>\n",
       "    <tr>\n",
       "      <th>12</th>\n",
       "      <td>Stephanie  Domitrovich</td>\n",
       "      <td>F</td>\n",
       "      <td>1990.0</td>\n",
       "      <td>University of Montana - Missoula</td>\n",
       "      <td>Health &amp; Human Performance department</td>\n",
       "      <td>Missoula</td>\n",
       "      <td>MT</td>\n",
       "      <td>07/22/2015</td>\n",
       "      <td>KIN484</td>\n",
       "      <td>5.0</td>\n",
       "      <td>3.0</td>\n",
       "      <td>Mandatory</td>\n",
       "      <td>Yes</td>\n",
       "      <td>None</td>\n",
       "      <td>None</td>\n",
       "      <td>None</td>\n",
       "      <td>0</td>\n",
       "      <td>0</td>\n",
       "      <td>Steph was very helpful and cared about our exp...</td>\n",
       "      <td>4</td>\n",
       "    </tr>\n",
       "    <tr>\n",
       "      <th>13</th>\n",
       "      <td>Stephanie  Domitrovich</td>\n",
       "      <td>F</td>\n",
       "      <td>1990.0</td>\n",
       "      <td>University of Montana - Missoula</td>\n",
       "      <td>Health &amp; Human Performance department</td>\n",
       "      <td>Missoula</td>\n",
       "      <td>MT</td>\n",
       "      <td>08/01/2009</td>\n",
       "      <td>NUTR236</td>\n",
       "      <td>1.5</td>\n",
       "      <td>5.0</td>\n",
       "      <td>None</td>\n",
       "      <td>None</td>\n",
       "      <td>None</td>\n",
       "      <td>None</td>\n",
       "      <td>None</td>\n",
       "      <td>0</td>\n",
       "      <td>0</td>\n",
       "      <td>No Comments</td>\n",
       "      <td>4</td>\n",
       "    </tr>\n",
       "  </tbody>\n",
       "</table>\n",
       "</div>"
      ],
      "text/plain": [
       "            professor_name gender     age  \\\n",
       "0        Robert  Olshansky      M  1956.0   \n",
       "1         Marshall  Levett      M  2015.0   \n",
       "2         Marshall  Levett      M  2015.0   \n",
       "7            Gyda  Swayney      F  1952.0   \n",
       "8   Stephanie  Domitrovich      F  1990.0   \n",
       "9   Stephanie  Domitrovich      F  1990.0   \n",
       "10  Stephanie  Domitrovich      F  1990.0   \n",
       "11  Stephanie  Domitrovich      F  1990.0   \n",
       "12  Stephanie  Domitrovich      F  1990.0   \n",
       "13  Stephanie  Domitrovich      F  1990.0   \n",
       "\n",
       "                                   school_name  \\\n",
       "0   University Of Illinois at Urbana-Champaign   \n",
       "1                     Austin Community College   \n",
       "2                     Austin Community College   \n",
       "7             University of Montana - Missoula   \n",
       "8             University of Montana - Missoula   \n",
       "9             University of Montana - Missoula   \n",
       "10            University of Montana - Missoula   \n",
       "11            University of Montana - Missoula   \n",
       "12            University of Montana - Missoula   \n",
       "13            University of Montana - Missoula   \n",
       "\n",
       "                          department_name                    local_name  \\\n",
       "0    Urban & Regional Planning department   Champaign\\xe2\\x80\\x93Urbana   \n",
       "1                   Counseling department                        Austin   \n",
       "2                   Counseling department                        Austin   \n",
       "7                   Psychology department                      Missoula   \n",
       "8   Health & Human Performance department                      Missoula   \n",
       "9   Health & Human Performance department                      Missoula   \n",
       "10  Health & Human Performance department                      Missoula   \n",
       "11  Health & Human Performance department                      Missoula   \n",
       "12  Health & Human Performance department                      Missoula   \n",
       "13  Health & Human Performance department                      Missoula   \n",
       "\n",
       "   state_name   post_date name_onlines  student_star  student_difficult  \\\n",
       "0          IL  08/19/2010        UP347           3.5                2.0   \n",
       "1          TX  03/07/2013     HUDE0111           5.0                1.0   \n",
       "2          TX  10/14/2011     HUDE0111           5.0                1.0   \n",
       "7          MT  01/23/2010      PSYX352           3.0                2.0   \n",
       "8          MT  01/16/2013       HHP226           1.0                4.0   \n",
       "9          MT  01/24/2010       HHP236           1.5                5.0   \n",
       "10         MT  05/06/2010       HHP236           4.5                4.0   \n",
       "11         MT  07/22/2015       KIN483           5.0                2.0   \n",
       "12         MT  07/22/2015       KIN484           5.0                3.0   \n",
       "13         MT  08/01/2009      NUTR236           1.5                5.0   \n",
       "\n",
       "      attence for_credits would_take_agains grades  \\\n",
       "0        None        None              None   None   \n",
       "1        None        None              None   None   \n",
       "2        None        None              None   None   \n",
       "7        None        None              None   None   \n",
       "8        None        None              None   None   \n",
       "9        None        None              None   None   \n",
       "10       None        None              None   None   \n",
       "11  Mandatory         Yes              None   None   \n",
       "12  Mandatory         Yes              None   None   \n",
       "13       None        None              None   None   \n",
       "\n",
       "                                             stu_tags  help_useful  \\\n",
       "0                                                None            0   \n",
       "1                                                None            0   \n",
       "2                                                None            0   \n",
       "7                                                None            0   \n",
       "8                                                None            2   \n",
       "9                                                None            0   \n",
       "10                                               None            1   \n",
       "11  BEWARE OF POP QUIZZES  EXTRA CREDIT  SKIP CLAS...            0   \n",
       "12                                               None            0   \n",
       "13                                               None            0   \n",
       "\n",
       "    help_not_useful                                           comments  \\\n",
       "0                 0  Good guy, laid back and interested in his fiel...   \n",
       "1                 0  such a fun professor. really helpful and knows...   \n",
       "2                 0  Such a easy class. It\\'s simple. Do your homew...   \n",
       "7                 0  Boo. When I took multicultural psych from Dr. ...   \n",
       "8                 0  Stephanie ALWAYS had a mad or bored or \"I coul...   \n",
       "9                 0  Horrible. I went to class everyday and it stil...   \n",
       "10                0  She was awesome! If you went to class and list...   \n",
       "11                0              One of the best classes I took at UM.   \n",
       "12                0  Steph was very helpful and cared about our exp...   \n",
       "13                0                                        No Comments   \n",
       "\n",
       "    prof_id  \n",
       "0         0  \n",
       "1         1  \n",
       "2         1  \n",
       "7         3  \n",
       "8         4  \n",
       "9         4  \n",
       "10        4  \n",
       "11        4  \n",
       "12        4  \n",
       "13        4  "
      ]
     },
     "execution_count": 15,
     "metadata": {},
     "output_type": "execute_result"
    }
   ],
   "source": [
    "#drop the missing values \n",
    "clean = combine.dropna(subset = demo, axis = 0) \n",
    "\n",
    "#show the first 10 colums after dropped the values\n",
    "clean.head(10) "
   ]
  },
  {
   "cell_type": "code",
   "execution_count": 16,
   "metadata": {},
   "outputs": [
    {
     "name": "stdout",
     "output_type": "stream",
     "text": [
      "<class 'pandas.core.frame.DataFrame'>\n",
      "Int64Index: 18132 entries, 0 to 19684\n",
      "Data columns (total 20 columns):\n",
      " #   Column             Non-Null Count  Dtype  \n",
      "---  ------             --------------  -----  \n",
      " 0   professor_name     18132 non-null  object \n",
      " 1   gender             18132 non-null  object \n",
      " 2   age                18132 non-null  float64\n",
      " 3   school_name        18132 non-null  object \n",
      " 4   department_name    18132 non-null  object \n",
      " 5   local_name         18132 non-null  object \n",
      " 6   state_name         18132 non-null  object \n",
      " 7   post_date          18132 non-null  object \n",
      " 8   name_onlines       18132 non-null  object \n",
      " 9   student_star       18132 non-null  float64\n",
      " 10  student_difficult  18132 non-null  float64\n",
      " 11  attence            4821 non-null   object \n",
      " 12  for_credits        5109 non-null   object \n",
      " 13  would_take_agains  3251 non-null   object \n",
      " 14  grades             3924 non-null   object \n",
      " 15  stu_tags           4587 non-null   object \n",
      " 16  help_useful        18132 non-null  int64  \n",
      " 17  help_not_useful    18132 non-null  int64  \n",
      " 18  comments           18052 non-null  object \n",
      " 19  prof_id            18132 non-null  int64  \n",
      "dtypes: float64(3), int64(3), object(14)\n",
      "memory usage: 2.9+ MB\n"
     ]
    }
   ],
   "source": [
    "#get a overview info of clean data after dropped the missing values of age, gender and student_star\n",
    "clean.info() "
   ]
  },
  {
   "cell_type": "markdown",
   "metadata": {},
   "source": [
    "## Part 2.1: Gender\n",
    "1. The distribution of the professors gneder: more male or female?\n",
    "2. Whether male professors has higher rating or lower?\n",
    "3. Any limitation in the analysis?"
   ]
  },
  {
   "cell_type": "code",
   "execution_count": 17,
   "metadata": {},
   "outputs": [
    {
     "data": {
      "text/plain": [
       "M    9170\n",
       "F    8962\n",
       "Name: gender, dtype: int64"
      ]
     },
     "execution_count": 17,
     "metadata": {},
     "output_type": "execute_result"
    }
   ],
   "source": [
    "#After clean the data, count the numbers of male and female \n",
    "clean['gender'].value_counts() "
   ]
  },
  {
   "cell_type": "code",
   "execution_count": 18,
   "metadata": {},
   "outputs": [
    {
     "data": {
      "text/plain": [
       "gender\n",
       "F    3.756528\n",
       "M    3.819520\n",
       "Name: student_star, dtype: float64"
      ]
     },
     "execution_count": 18,
     "metadata": {},
     "output_type": "execute_result"
    }
   ],
   "source": [
    "#After checked the gender distribution, there is no much different between the numbers of male or females professor, approxiately half half distribution.\n",
    "#Therefore, i want to check will the student rating affected by the gender of professor. So i did the below analysis:\n",
    "\n",
    "#check the mean of studnet star according by gender\n",
    "clean.groupby(\"gender\").mean()['student_star'] "
   ]
  },
  {
   "cell_type": "code",
   "execution_count": 19,
   "metadata": {},
   "outputs": [
    {
     "name": "stdout",
     "output_type": "stream",
     "text": [
      "student_star   1.0  1.5  2.0  2.5  3.0  3.5   4.0   4.5   5.0\n",
      "gender                                                       \n",
      "F             1002  383  539  343  543  425  1031  1133  3563\n",
      "M              866  352  568  348  530  467  1163  1263  3613\n"
     ]
    }
   ],
   "source": [
    "#Both mean score is quite similar, it could not see any directly relationship bwtween gender and studnet rating.\n",
    "#Furthermore, i did a crossover table in student_star and gender in order to have a deeply overview the number of gender in differnt score.\n",
    "\n",
    "print(pd.crosstab(clean[\"gender\"],clean[\"student_star\"])) "
   ]
  },
  {
   "cell_type": "code",
   "execution_count": 20,
   "metadata": {},
   "outputs": [
    {
     "name": "stdout",
     "output_type": "stream",
     "text": [
      "0        1\n",
      "1        1\n",
      "2        1\n",
      "7        0\n",
      "8        0\n",
      "        ..\n",
      "19680    0\n",
      "19681    0\n",
      "19682    0\n",
      "19683    0\n",
      "19684    0\n",
      "Name: gender, Length: 18132, dtype: int64\n"
     ]
    }
   ],
   "source": [
    "#The above table showed that mostly each gender in different score have similars numbers.\n",
    "#It could not conclude that any specific gneder will realatively get higher or lower marks.\n",
    "#Since i want to check the correlation and covariance bwtween the gender and student_star,so i transform the dummy encoding below. \n",
    "\n",
    "tran = {\"M\":1, \"F\":0}\n",
    "clean[\"gender\"] = clean[\"gender\"].replace(tran) \n",
    "print(clean[\"gender\"])"
   ]
  },
  {
   "cell_type": "code",
   "execution_count": 21,
   "metadata": {},
   "outputs": [
    {
     "data": {
      "text/plain": [
       "0.022461521195865582"
      ]
     },
     "execution_count": 21,
     "metadata": {},
     "output_type": "execute_result"
    }
   ],
   "source": [
    "#show the correlation between gender and student_star\n",
    "clean.corr()[\"gender\"][\"student_star\"] "
   ]
  },
  {
   "cell_type": "code",
   "execution_count": 22,
   "metadata": {},
   "outputs": [
    {
     "data": {
      "text/plain": [
       "0.01574694952073364"
      ]
     },
     "execution_count": 22,
     "metadata": {},
     "output_type": "execute_result"
    }
   ],
   "source": [
    "#show the covariance between gender and studnet_star\n",
    "clean.cov()[\"gender\"][\"student_star\"] "
   ]
  },
  {
   "cell_type": "code",
   "execution_count": 23,
   "metadata": {},
   "outputs": [
    {
     "data": {
      "image/png": "[encoded data removed]",
      "text/plain": [
       "<Figure size 720x648 with 2 Axes>"
      ]
     },
     "metadata": {},
     "output_type": "display_data"
    }
   ],
   "source": [
    "#The above correlation and covariance results are 0.0225 and 0.0157.\n",
    "#It showed that there is no directly relationships between gender and student_star.\n",
    "#In order to visualise the data, i plot the pie chart to show the mean score acoording to gender.\n",
    "\n",
    "mean_rate = clean[\"student_star\"].mean()\n",
    "\n",
    "low = clean.query(\"student_star <= @mean_rate\")[\"gender\"].value_counts().sort_index()\n",
    "high = clean.query(\"student_star >= @mean_rate\")[\"gender\"].value_counts().sort_index()\n",
    "\n",
    "plt.figure(figsize = (10,9))\n",
    "\n",
    "plt.subplot(1, 2, 1)\n",
    "plt.pie(low, labels = [\"Female\", \"Male\"], colors = [\"pink\",\"orange\"], autopct = \"%1.1f%%\", shadow=True, startangle=90)\n",
    "plt.title(\"Low\", fontsize = 20)\n",
    "\n",
    "plt.subplot(1, 2, 2)\n",
    "plt.pie(high, labels = [\"Female\", \"Male\"], colors = [\"pink\", \"orange\"], autopct = \"%1.1f%%\", shadow=True, startangle=90)\n",
    "plt.title(\"High\", fontsize = 20)\n",
    "\n",
    "plt.show()"
   ]
  },
  {
   "cell_type": "code",
   "execution_count": 24,
   "metadata": {},
   "outputs": [],
   "source": [
    "#The above pie chart showed that both gender have similar percentage in high and low marks group. \n",
    "#The student_star score will not affected by whether the professor is a male or fmeale. "
   ]
  },
  {
   "cell_type": "code",
   "execution_count": 25,
   "metadata": {},
   "outputs": [
    {
     "data": {
      "text/plain": [
       "Ttest_indResult(statistic=3.0251551294933057, pvalue=0.002488537189518353)"
      ]
     },
     "execution_count": 25,
     "metadata": {},
     "output_type": "execute_result"
    }
   ],
   "source": [
    "stats.ttest_ind(clean[\"student_star\"][clean[\"gender\"] == 1],\n",
    "               clean[\"student_star\"][clean[\"gender\"] == 0])"
   ]
  },
  {
   "cell_type": "markdown",
   "metadata": {},
   "source": [
    "- The t-test result showed that a significant difference between student_star and gender"
   ]
  },
  {
   "cell_type": "markdown",
   "metadata": {},
   "source": [
    "### Conclusion about the gender\n",
    "- The distribution of gender are likely equal to each others. \n",
    "- Based on the analysis showed that there is no direct relationship among gender and student_score. The correlation and covariance is near 0. It means no correlation and they are not linked at all. \n",
    "- The pie chart also clearly proved that the percentage of male and female score in low and high are quite similar. \n",
    "- Those analysis can conclude that student_star will not directly affected by gender."
   ]
  },
  {
   "cell_type": "markdown",
   "metadata": {},
   "source": [
    "## Part 2.2: Age & Post date\n",
    "1. What is the age distribution among professors?\n",
    "2. Which age group of professor has higher rating?\n",
    "3. Any limitaion in this analysis? "
   ]
  },
  {
   "cell_type": "code",
   "execution_count": 26,
   "metadata": {},
   "outputs": [
    {
     "data": {
      "text/plain": [
       "count    18132.000000\n",
       "mean      1972.856773\n",
       "std         19.654948\n",
       "min       1916.000000\n",
       "25%       1958.000000\n",
       "50%       1966.000000\n",
       "75%       1987.000000\n",
       "max       2015.000000\n",
       "Name: age, dtype: float64"
      ]
     },
     "execution_count": 26,
     "metadata": {},
     "output_type": "execute_result"
    }
   ],
   "source": [
    "#Overview of the age colums and found out that the data is showing the date of birth of professor\n",
    "\n",
    "clean[\"age\"].describe() "
   ]
  },
  {
   "cell_type": "code",
   "execution_count": 27,
   "metadata": {},
   "outputs": [
    {
     "data": {
      "text/plain": [
       "0    1956.0\n",
       "1    2015.0\n",
       "2    2015.0\n",
       "7    1952.0\n",
       "8    1990.0\n",
       "Name: age, dtype: float64"
      ]
     },
     "execution_count": 27,
     "metadata": {},
     "output_type": "execute_result"
    }
   ],
   "source": [
    "#Overview of age column\n",
    "clean[\"age\"].head()"
   ]
  },
  {
   "cell_type": "code",
   "execution_count": 28,
   "metadata": {},
   "outputs": [
    {
     "data": {
      "text/plain": [
       "0    08/19/2010\n",
       "1    03/07/2013\n",
       "2    10/14/2011\n",
       "7    01/23/2010\n",
       "8    01/16/2013\n",
       "Name: post_date, dtype: object"
      ]
     },
     "execution_count": 28,
     "metadata": {},
     "output_type": "execute_result"
    }
   ],
   "source": [
    "#Overview of post_date\n",
    "clean[\"post_date\"].head()"
   ]
  },
  {
   "cell_type": "code",
   "execution_count": 29,
   "metadata": {},
   "outputs": [],
   "source": [
    "#Since the post date is showing in d/m/y format and convert to only showing year \n",
    "clean[\"post_date\"] = clean[\"post_date\"].astype(\"datetime64[ns]\").dt.year"
   ]
  },
  {
   "cell_type": "code",
   "execution_count": 30,
   "metadata": {},
   "outputs": [
    {
     "data": {
      "text/plain": [
       "0     54.0\n",
       "1     -2.0\n",
       "2     -4.0\n",
       "7     58.0\n",
       "8     23.0\n",
       "9     20.0\n",
       "10    20.0\n",
       "11    25.0\n",
       "12    25.0\n",
       "13    19.0\n",
       "Name: age, dtype: float64"
      ]
     },
     "execution_count": 30,
     "metadata": {},
     "output_type": "execute_result"
    }
   ],
   "source": [
    "#Since the data showing the date of birth of tutor,so minus it by the post_date to calcualte professor's age\n",
    "clean[\"age\"] = clean[\"post_date\"] - clean[\"age\"]\n",
    "\n",
    "#show the professor's age\n",
    "clean[\"age\"].head(10) "
   ]
  },
  {
   "cell_type": "code",
   "execution_count": 31,
   "metadata": {},
   "outputs": [
    {
     "data": {
      "text/plain": [
       "count    18132.000000\n",
       "mean        39.244705\n",
       "std         19.866477\n",
       "min        -10.000000\n",
       "25%         25.000000\n",
       "50%         45.000000\n",
       "75%         55.000000\n",
       "max        100.000000\n",
       "Name: age, dtype: float64"
      ]
     },
     "execution_count": 31,
     "metadata": {},
     "output_type": "execute_result"
    }
   ],
   "source": [
    "#get a overview of the data in age\n",
    "clean[\"age\"].describe() "
   ]
  },
  {
   "cell_type": "code",
   "execution_count": 32,
   "metadata": {},
   "outputs": [
    {
     "data": {
      "image/png": "[encoded data removed]",
      "text/plain": [
       "<Figure size 720x432 with 1 Axes>"
      ]
     },
     "metadata": {
      "needs_background": "light"
     },
     "output_type": "display_data"
    }
   ],
   "source": [
    "#To plot a histagram to visualise the data in professor's age\n",
    "plt.figure(figsize=(10,6))\n",
    "plt.hist(clean[\"age\"], bins = 10, edgecolor = \"k\", alpha=0.5) \n",
    "\n",
    "plt.xlabel(\"Age\", fontsize = 15)\n",
    "plt.ylabel(\"Count\", fontsize = 15)\n",
    "plt.title(\"Age of Professor\", fontsize = 20)\n",
    "\n",
    "plt.show()"
   ]
  },
  {
   "cell_type": "code",
   "execution_count": 33,
   "metadata": {},
   "outputs": [
    {
     "data": {
      "text/html": [
       "<div>\n",
       "<style scoped>\n",
       "    .dataframe tbody tr th:only-of-type {\n",
       "        vertical-align: middle;\n",
       "    }\n",
       "\n",
       "    .dataframe tbody tr th {\n",
       "        vertical-align: top;\n",
       "    }\n",
       "\n",
       "    .dataframe thead th {\n",
       "        text-align: right;\n",
       "    }\n",
       "</style>\n",
       "<table border=\"1\" class=\"dataframe\">\n",
       "  <thead>\n",
       "    <tr style=\"text-align: right;\">\n",
       "      <th></th>\n",
       "      <th>professor_name</th>\n",
       "      <th>gender</th>\n",
       "      <th>age</th>\n",
       "      <th>school_name</th>\n",
       "      <th>department_name</th>\n",
       "      <th>local_name</th>\n",
       "      <th>state_name</th>\n",
       "      <th>post_date</th>\n",
       "      <th>name_onlines</th>\n",
       "      <th>student_star</th>\n",
       "      <th>student_difficult</th>\n",
       "      <th>attence</th>\n",
       "      <th>for_credits</th>\n",
       "      <th>would_take_agains</th>\n",
       "      <th>grades</th>\n",
       "      <th>stu_tags</th>\n",
       "      <th>help_useful</th>\n",
       "      <th>help_not_useful</th>\n",
       "      <th>comments</th>\n",
       "      <th>prof_id</th>\n",
       "    </tr>\n",
       "  </thead>\n",
       "  <tbody>\n",
       "    <tr>\n",
       "      <th>0</th>\n",
       "      <td>Robert  Olshansky</td>\n",
       "      <td>1</td>\n",
       "      <td>54.0</td>\n",
       "      <td>University Of Illinois at Urbana-Champaign</td>\n",
       "      <td>Urban &amp; Regional Planning department</td>\n",
       "      <td>Champaign\\xe2\\x80\\x93Urbana</td>\n",
       "      <td>IL</td>\n",
       "      <td>2010</td>\n",
       "      <td>UP347</td>\n",
       "      <td>3.5</td>\n",
       "      <td>2.0</td>\n",
       "      <td>None</td>\n",
       "      <td>None</td>\n",
       "      <td>None</td>\n",
       "      <td>None</td>\n",
       "      <td>None</td>\n",
       "      <td>0</td>\n",
       "      <td>0</td>\n",
       "      <td>Good guy, laid back and interested in his fiel...</td>\n",
       "      <td>0</td>\n",
       "    </tr>\n",
       "    <tr>\n",
       "      <th>7</th>\n",
       "      <td>Gyda  Swayney</td>\n",
       "      <td>0</td>\n",
       "      <td>58.0</td>\n",
       "      <td>University of Montana - Missoula</td>\n",
       "      <td>Psychology department</td>\n",
       "      <td>Missoula</td>\n",
       "      <td>MT</td>\n",
       "      <td>2010</td>\n",
       "      <td>PSYX352</td>\n",
       "      <td>3.0</td>\n",
       "      <td>2.0</td>\n",
       "      <td>None</td>\n",
       "      <td>None</td>\n",
       "      <td>None</td>\n",
       "      <td>None</td>\n",
       "      <td>None</td>\n",
       "      <td>0</td>\n",
       "      <td>0</td>\n",
       "      <td>Boo. When I took multicultural psych from Dr. ...</td>\n",
       "      <td>3</td>\n",
       "    </tr>\n",
       "    <tr>\n",
       "      <th>8</th>\n",
       "      <td>Stephanie  Domitrovich</td>\n",
       "      <td>0</td>\n",
       "      <td>23.0</td>\n",
       "      <td>University of Montana - Missoula</td>\n",
       "      <td>Health &amp; Human Performance department</td>\n",
       "      <td>Missoula</td>\n",
       "      <td>MT</td>\n",
       "      <td>2013</td>\n",
       "      <td>HHP226</td>\n",
       "      <td>1.0</td>\n",
       "      <td>4.0</td>\n",
       "      <td>None</td>\n",
       "      <td>None</td>\n",
       "      <td>None</td>\n",
       "      <td>None</td>\n",
       "      <td>None</td>\n",
       "      <td>2</td>\n",
       "      <td>0</td>\n",
       "      <td>Stephanie ALWAYS had a mad or bored or \"I coul...</td>\n",
       "      <td>4</td>\n",
       "    </tr>\n",
       "    <tr>\n",
       "      <th>11</th>\n",
       "      <td>Stephanie  Domitrovich</td>\n",
       "      <td>0</td>\n",
       "      <td>25.0</td>\n",
       "      <td>University of Montana - Missoula</td>\n",
       "      <td>Health &amp; Human Performance department</td>\n",
       "      <td>Missoula</td>\n",
       "      <td>MT</td>\n",
       "      <td>2015</td>\n",
       "      <td>KIN483</td>\n",
       "      <td>5.0</td>\n",
       "      <td>2.0</td>\n",
       "      <td>Mandatory</td>\n",
       "      <td>Yes</td>\n",
       "      <td>None</td>\n",
       "      <td>None</td>\n",
       "      <td>BEWARE OF POP QUIZZES  EXTRA CREDIT  SKIP CLAS...</td>\n",
       "      <td>0</td>\n",
       "      <td>0</td>\n",
       "      <td>One of the best classes I took at UM.</td>\n",
       "      <td>4</td>\n",
       "    </tr>\n",
       "    <tr>\n",
       "      <th>12</th>\n",
       "      <td>Stephanie  Domitrovich</td>\n",
       "      <td>0</td>\n",
       "      <td>25.0</td>\n",
       "      <td>University of Montana - Missoula</td>\n",
       "      <td>Health &amp; Human Performance department</td>\n",
       "      <td>Missoula</td>\n",
       "      <td>MT</td>\n",
       "      <td>2015</td>\n",
       "      <td>KIN484</td>\n",
       "      <td>5.0</td>\n",
       "      <td>3.0</td>\n",
       "      <td>Mandatory</td>\n",
       "      <td>Yes</td>\n",
       "      <td>None</td>\n",
       "      <td>None</td>\n",
       "      <td>None</td>\n",
       "      <td>0</td>\n",
       "      <td>0</td>\n",
       "      <td>Steph was very helpful and cared about our exp...</td>\n",
       "      <td>4</td>\n",
       "    </tr>\n",
       "  </tbody>\n",
       "</table>\n",
       "</div>"
      ],
      "text/plain": [
       "            professor_name  gender   age  \\\n",
       "0        Robert  Olshansky       1  54.0   \n",
       "7            Gyda  Swayney       0  58.0   \n",
       "8   Stephanie  Domitrovich       0  23.0   \n",
       "11  Stephanie  Domitrovich       0  25.0   \n",
       "12  Stephanie  Domitrovich       0  25.0   \n",
       "\n",
       "                                   school_name  \\\n",
       "0   University Of Illinois at Urbana-Champaign   \n",
       "7             University of Montana - Missoula   \n",
       "8             University of Montana - Missoula   \n",
       "11            University of Montana - Missoula   \n",
       "12            University of Montana - Missoula   \n",
       "\n",
       "                          department_name                    local_name  \\\n",
       "0    Urban & Regional Planning department   Champaign\\xe2\\x80\\x93Urbana   \n",
       "7                   Psychology department                      Missoula   \n",
       "8   Health & Human Performance department                      Missoula   \n",
       "11  Health & Human Performance department                      Missoula   \n",
       "12  Health & Human Performance department                      Missoula   \n",
       "\n",
       "   state_name  post_date name_onlines  student_star  student_difficult  \\\n",
       "0          IL       2010        UP347           3.5                2.0   \n",
       "7          MT       2010      PSYX352           3.0                2.0   \n",
       "8          MT       2013       HHP226           1.0                4.0   \n",
       "11         MT       2015       KIN483           5.0                2.0   \n",
       "12         MT       2015       KIN484           5.0                3.0   \n",
       "\n",
       "      attence for_credits would_take_agains grades  \\\n",
       "0        None        None              None   None   \n",
       "7        None        None              None   None   \n",
       "8        None        None              None   None   \n",
       "11  Mandatory         Yes              None   None   \n",
       "12  Mandatory         Yes              None   None   \n",
       "\n",
       "                                             stu_tags  help_useful  \\\n",
       "0                                                None            0   \n",
       "7                                                None            0   \n",
       "8                                                None            2   \n",
       "11  BEWARE OF POP QUIZZES  EXTRA CREDIT  SKIP CLAS...            0   \n",
       "12                                               None            0   \n",
       "\n",
       "    help_not_useful                                           comments  \\\n",
       "0                 0  Good guy, laid back and interested in his fiel...   \n",
       "7                 0  Boo. When I took multicultural psych from Dr. ...   \n",
       "8                 0  Stephanie ALWAYS had a mad or bored or \"I coul...   \n",
       "11                0              One of the best classes I took at UM.   \n",
       "12                0  Steph was very helpful and cared about our exp...   \n",
       "\n",
       "    prof_id  \n",
       "0         0  \n",
       "7         3  \n",
       "8         4  \n",
       "11        4  \n",
       "12        4  "
      ]
     },
     "execution_count": 33,
     "metadata": {},
     "output_type": "execute_result"
    }
   ],
   "source": [
    "#From the histagram, we can observe that there may have some error in data like the professor is under 20 and older that 100.\n",
    "#Therefore, i need to select the correct inforamtion to analyse in next step.\n",
    "\n",
    "#Only choose the age between 20 to 80 years old, since under 20 is too young not abel to be professor and the number of sample size is too small for over 80\n",
    "clean = clean.query(\"age > 20 & age < 80\") \n",
    "clean.head() "
   ]
  },
  {
   "cell_type": "code",
   "execution_count": 34,
   "metadata": {},
   "outputs": [
    {
     "data": {
      "text/plain": [
       "-0.06324048920295551"
      ]
     },
     "execution_count": 34,
     "metadata": {},
     "output_type": "execute_result"
    }
   ],
   "source": [
    "#check the correlation between the age and student star\n",
    "clean.corr()['age'][\"student_star\"] "
   ]
  },
  {
   "cell_type": "code",
   "execution_count": 35,
   "metadata": {},
   "outputs": [
    {
     "data": {
      "text/plain": [
       "-1.1126033745560466"
      ]
     },
     "execution_count": 35,
     "metadata": {},
     "output_type": "execute_result"
    }
   ],
   "source": [
    "#check the covariance between the age and student star\n",
    "clean.cov()['age']['student_star'] "
   ]
  },
  {
   "cell_type": "code",
   "execution_count": 36,
   "metadata": {},
   "outputs": [
    {
     "data": {
      "text/plain": [
       "Middle    8374\n",
       "Old       1785\n",
       "Young     4362\n",
       "Name: age, dtype: int64"
      ]
     },
     "execution_count": 36,
     "metadata": {},
     "output_type": "execute_result"
    }
   ],
   "source": [
    "#After observed the correlation and covariance of the age and student_star, it can conclud that a weak ralationships between them.\n",
    "#Then, i want to know the age distribution among the professor group so i divided them into 4 groups. \n",
    "#Details analysis in below:\n",
    "\n",
    "clean[\"age\"] = pd.cut(clean['age'], bins = [20,40,60,80], labels = [\"Young\", \"Middle\", \"Old\"]).astype(\"str\")\n",
    "clean[\"age\"].value_counts().sort_index()"
   ]
  },
  {
   "cell_type": "code",
   "execution_count": 37,
   "metadata": {},
   "outputs": [
    {
     "data": {
      "image/png": "[encoded data removed]",
      "text/plain": [
       "<Figure size 720x432 with 1 Axes>"
      ]
     },
     "metadata": {
      "needs_background": "light"
     },
     "output_type": "display_data"
    }
   ],
   "source": [
    "#Plot a histagram to visualise the data in professor age after chose the age bwtween 20 to 100\n",
    "plt.figure(figsize=(10,6))\n",
    "plt.hist(clean[\"age\"], bins = 10, edgecolor = \"k\", alpha=0.5) \n",
    "\n",
    "plt.xlabel(\"Age\", fontsize = 15)\n",
    "plt.ylabel(\"Count\", fontsize = 15)\n",
    "plt.title(\"Age of Professor\", fontsize = 20)\n",
    "\n",
    "plt.show()"
   ]
  },
  {
   "cell_type": "code",
   "execution_count": 38,
   "metadata": {},
   "outputs": [
    {
     "data": {
      "text/plain": [
       "age\n",
       "Middle    3.769047\n",
       "Old       3.660224\n",
       "Young     3.907038\n",
       "Name: student_star, dtype: float64"
      ]
     },
     "execution_count": 38,
     "metadata": {},
     "output_type": "execute_result"
    }
   ],
   "source": [
    "#Based on the above analysis, most of the professor are belong to young age group and followed by middle, young groups.\n",
    "#Only few of the professor are between 80-100 years old. \n",
    "\n",
    "#observe the mean score different between each age group. \n",
    "clean.groupby(\"age\").mean()[\"student_star\"] "
   ]
  },
  {
   "cell_type": "code",
   "execution_count": 39,
   "metadata": {},
   "outputs": [],
   "source": [
    "#The analysis show that the mean score of 20-40 and 40-60 are quite similar. \n",
    "#A slightly lower in 60-80 age group \n",
    "#It can observe that younger professor tend to have higher marks."
   ]
  },
  {
   "cell_type": "code",
   "execution_count": 40,
   "metadata": {},
   "outputs": [
    {
     "data": {
      "text/plain": [
       "Ttest_indResult(statistic=5.307319040939197, pvalue=1.1311641222865738e-07)"
      ]
     },
     "execution_count": 40,
     "metadata": {},
     "output_type": "execute_result"
    }
   ],
   "source": [
    "stats.ttest_ind(clean[\"student_star\"][clean[\"age\"] == \"Young\"],\n",
    "               clean[\"student_star\"][clean[\"age\"] == \"Middle\"])"
   ]
  },
  {
   "cell_type": "code",
   "execution_count": 41,
   "metadata": {},
   "outputs": [
    {
     "data": {
      "text/plain": [
       "Ttest_indResult(statistic=6.401345219859894, pvalue=1.6539602140038963e-10)"
      ]
     },
     "execution_count": 41,
     "metadata": {},
     "output_type": "execute_result"
    }
   ],
   "source": [
    "stats.ttest_ind(clean[\"student_star\"][clean[\"age\"] == \"Young\"],\n",
    "               clean[\"student_star\"][clean[\"age\"] == \"Old\"])"
   ]
  },
  {
   "cell_type": "code",
   "execution_count": 42,
   "metadata": {},
   "outputs": [
    {
     "data": {
      "text/plain": [
       "Ttest_indResult(statistic=2.9183707624963082, pvalue=0.003526376230582431)"
      ]
     },
     "execution_count": 42,
     "metadata": {},
     "output_type": "execute_result"
    }
   ],
   "source": [
    "stats.ttest_ind(clean[\"student_star\"][clean[\"age\"] == \"Middle\"],\n",
    "               clean[\"student_star\"][clean[\"age\"] == \"Old\"])"
   ]
  },
  {
   "cell_type": "markdown",
   "metadata": {},
   "source": [
    "- From the t-test result showed the a significant difference between student_star rating among each age groups(young, middle and old). "
   ]
  },
  {
   "cell_type": "markdown",
   "metadata": {},
   "source": [
    "## Reference to previous analysis, we can conclude few main points:\n",
    "1. 40-60 age group have the most numbers of professors and followed by 20-40, 40-60.\n",
    "2. There is no correlation between age and student_star since the result of correlation is -0.0632. It can only observe that when the professor get older, it may have a bit marks reduce in the student_star rating.\n",
    "3. Younger professor tend to have higher mark in student_star rating due to the analysis showed that 20-40 and 40-60 age groups have a higher mean in student rating."
   ]
  },
  {
   "cell_type": "markdown",
   "metadata": {},
   "source": [
    "## Limitation in this part:\n",
    "1. The age under the dataset may not accurate because age is inferred from the professor's name using the agefromname Python package."
   ]
  },
  {
   "cell_type": "markdown",
   "metadata": {},
   "source": [
    "## Part 2.3:Age and Gender\n",
    "After observed the age and gender variable separately, combining two factors together to check any different in marks in a particular age and gender group. "
   ]
  },
  {
   "cell_type": "code",
   "execution_count": 43,
   "metadata": {},
   "outputs": [
    {
     "name": "stdout",
     "output_type": "stream",
     "text": [
      "gender         0         1\n",
      "age                       \n",
      "Middle  3.728961  3.795631\n",
      "Old     3.634531  3.743468\n",
      "Young   3.916472  3.893534\n"
     ]
    }
   ],
   "source": [
    "#chcek the crossover table any different in marks when age and gender combine tgt\n",
    "mix = pd.crosstab(clean[\"age\"], clean[\"gender\"], clean[\"student_star\"],aggfunc = \"mean\") \n",
    "print(mix) "
   ]
  },
  {
   "cell_type": "code",
   "execution_count": 44,
   "metadata": {},
   "outputs": [
    {
     "name": "stdout",
     "output_type": "stream",
     "text": [
      "gender     0     1\n",
      "age               \n",
      "Middle  3339  5035\n",
      "Old     1364   421\n",
      "Young   2568  1794\n"
     ]
    }
   ],
   "source": [
    "#Based on the analysis, it showed that not much different in between gender belong to age 20-40 and 60-80 groups.\n",
    "#A slighly differnt in 40-60 group, female professors have a bit lower mean score than male.\n",
    "#Male professor would relatively perform better in 80-100 age group.\n",
    "\n",
    "#check the numbers of professor in particular age and gender\n",
    "print(pd.crosstab(clean[\"age\"], clean[\"gender\"]))"
   ]
  },
  {
   "cell_type": "code",
   "execution_count": 45,
   "metadata": {},
   "outputs": [
    {
     "data": {
      "text/plain": [
       "<function matplotlib.pyplot.show(*args, **kw)>"
      ]
     },
     "execution_count": 45,
     "metadata": {},
     "output_type": "execute_result"
    },
    {
     "data": {
      "image/png": "[encoded data removed]",
      "text/plain": [
       "<Figure size 432x288 with 1 Axes>"
      ]
     },
     "metadata": {
      "needs_background": "light"
     },
     "output_type": "display_data"
    }
   ],
   "source": [
    "#To visualise the data \n",
    "mix.plot(kind=\"bar\")\n",
    "\n",
    "plt.ylabel(\"Mean score of professor\", fontsize = 10)\n",
    "plt.title(\"Student rating\", fontsize = 15)\n",
    "plt.legend(loc='upper center', ncol=3)\n",
    "plt.show"
   ]
  },
  {
   "cell_type": "markdown",
   "metadata": {},
   "source": [
    "- Based on the above analysis, there are not mcuh different in mean of student rating in a particular age and gender group. \n",
    "- The student_star will not affected by the professor's age and gender. "
   ]
  },
  {
   "cell_type": "markdown",
   "metadata": {},
   "source": [
    "# Part 3: Conclusion and Limitions for age and gender"
   ]
  },
  {
   "cell_type": "markdown",
   "metadata": {},
   "source": [
    "- In conclusion, the demographic of the professors will not affect the Professor ratings too much. Since the above analysis showed that the correlation of age and gender bwtween student_star is so low. \n",
    "- Also, gender and age are both inferred from the professor's name using the agefromname Python package. Therefore, it may have some errors exist there."
   ]
  },
  {
   "cell_type": "markdown",
   "metadata": {},
   "source": [
    "## 3.1 For credit\n",
    "- Will the student who took for credit give higher mark in student_rating?"
   ]
  },
  {
   "cell_type": "code",
   "execution_count": 46,
   "metadata": {},
   "outputs": [
    {
     "data": {
      "text/plain": [
       "count     4227\n",
       "unique       2\n",
       "top        Yes\n",
       "freq      4204\n",
       "Name: for_credits, dtype: object"
      ]
     },
     "execution_count": 46,
     "metadata": {},
     "output_type": "execute_result"
    }
   ],
   "source": [
    "clean[\"for_credits\"].describe()"
   ]
  },
  {
   "cell_type": "code",
   "execution_count": 47,
   "metadata": {},
   "outputs": [
    {
     "data": {
      "text/plain": [
       "0     None\n",
       "7     None\n",
       "8     None\n",
       "11     Yes\n",
       "12     Yes\n",
       "17    None\n",
       "18    None\n",
       "19    None\n",
       "20    None\n",
       "21     Yes\n",
       "Name: for_credits, dtype: object"
      ]
     },
     "execution_count": 47,
     "metadata": {},
     "output_type": "execute_result"
    }
   ],
   "source": [
    "clean[\"for_credits\"].head(10)"
   ]
  },
  {
   "cell_type": "code",
   "execution_count": 48,
   "metadata": {},
   "outputs": [
    {
     "data": {
      "text/plain": [
       "10294"
      ]
     },
     "execution_count": 48,
     "metadata": {},
     "output_type": "execute_result"
    }
   ],
   "source": [
    "clean[\"for_credits\"].isnull().sum()"
   ]
  },
  {
   "cell_type": "code",
   "execution_count": 49,
   "metadata": {},
   "outputs": [],
   "source": [
    "# Fill in the missing values\n",
    "clean[\"for_credits\"].fillna(\"Unknown\", inplace = True)"
   ]
  },
  {
   "cell_type": "code",
   "execution_count": 50,
   "metadata": {},
   "outputs": [
    {
     "data": {
      "text/html": [
       "<div>\n",
       "<style scoped>\n",
       "    .dataframe tbody tr th:only-of-type {\n",
       "        vertical-align: middle;\n",
       "    }\n",
       "\n",
       "    .dataframe tbody tr th {\n",
       "        vertical-align: top;\n",
       "    }\n",
       "\n",
       "    .dataframe thead th {\n",
       "        text-align: right;\n",
       "    }\n",
       "</style>\n",
       "<table border=\"1\" class=\"dataframe\">\n",
       "  <thead>\n",
       "    <tr style=\"text-align: right;\">\n",
       "      <th>student_star</th>\n",
       "      <th>1.0</th>\n",
       "      <th>1.5</th>\n",
       "      <th>2.0</th>\n",
       "      <th>2.5</th>\n",
       "      <th>3.0</th>\n",
       "      <th>3.5</th>\n",
       "      <th>4.0</th>\n",
       "      <th>4.5</th>\n",
       "      <th>5.0</th>\n",
       "    </tr>\n",
       "    <tr>\n",
       "      <th>for_credits</th>\n",
       "      <th></th>\n",
       "      <th></th>\n",
       "      <th></th>\n",
       "      <th></th>\n",
       "      <th></th>\n",
       "      <th></th>\n",
       "      <th></th>\n",
       "      <th></th>\n",
       "      <th></th>\n",
       "    </tr>\n",
       "  </thead>\n",
       "  <tbody>\n",
       "    <tr>\n",
       "      <th>No</th>\n",
       "      <td>12</td>\n",
       "      <td>0</td>\n",
       "      <td>0</td>\n",
       "      <td>0</td>\n",
       "      <td>3</td>\n",
       "      <td>0</td>\n",
       "      <td>0</td>\n",
       "      <td>0</td>\n",
       "      <td>8</td>\n",
       "    </tr>\n",
       "    <tr>\n",
       "      <th>Unknown</th>\n",
       "      <td>978</td>\n",
       "      <td>503</td>\n",
       "      <td>605</td>\n",
       "      <td>428</td>\n",
       "      <td>549</td>\n",
       "      <td>548</td>\n",
       "      <td>1100</td>\n",
       "      <td>1531</td>\n",
       "      <td>4052</td>\n",
       "    </tr>\n",
       "    <tr>\n",
       "      <th>Yes</th>\n",
       "      <td>497</td>\n",
       "      <td>95</td>\n",
       "      <td>274</td>\n",
       "      <td>119</td>\n",
       "      <td>290</td>\n",
       "      <td>166</td>\n",
       "      <td>637</td>\n",
       "      <td>328</td>\n",
       "      <td>1798</td>\n",
       "    </tr>\n",
       "  </tbody>\n",
       "</table>\n",
       "</div>"
      ],
      "text/plain": [
       "student_star  1.0  1.5  2.0  2.5  3.0  3.5   4.0   4.5   5.0\n",
       "for_credits                                                 \n",
       "No             12    0    0    0    3    0     0     0     8\n",
       "Unknown       978  503  605  428  549  548  1100  1531  4052\n",
       "Yes           497   95  274  119  290  166   637   328  1798"
      ]
     },
     "execution_count": 50,
     "metadata": {},
     "output_type": "execute_result"
    }
   ],
   "source": [
    "pd.crosstab(clean[\"for_credits\"], clean[\"student_star\"])"
   ]
  },
  {
   "cell_type": "markdown",
   "metadata": {},
   "source": [
    "- for those studnet who give 5marks in student_star rating, most of them took the class for credits."
   ]
  },
  {
   "cell_type": "code",
   "execution_count": 51,
   "metadata": {},
   "outputs": [
    {
     "name": "stdout",
     "output_type": "stream",
     "text": [
      "0        0\n",
      "7        0\n",
      "8        0\n",
      "11       1\n",
      "12       1\n",
      "        ..\n",
      "19680    0\n",
      "19681    0\n",
      "19682    1\n",
      "19683    0\n",
      "19684    0\n",
      "Name: for_credits, Length: 14521, dtype: int64\n"
     ]
    }
   ],
   "source": [
    "#transform the dummy variables\n",
    "transform = {\"Yes\":1, \"No\":0, \"Unknown\":0}\n",
    "clean[\"for_credits\"] = clean[\"for_credits\"].replace(transform) \n",
    "print(clean[\"for_credits\"])"
   ]
  },
  {
   "cell_type": "code",
   "execution_count": 52,
   "metadata": {},
   "outputs": [
    {
     "data": {
      "text/plain": [
       "-0.0014168648251650846"
      ]
     },
     "execution_count": 52,
     "metadata": {},
     "output_type": "execute_result"
    }
   ],
   "source": [
    "clean.corr()[\"for_credits\"][\"student_star\"]"
   ]
  },
  {
   "cell_type": "code",
   "execution_count": 53,
   "metadata": {},
   "outputs": [
    {
     "data": {
      "text/plain": [
       "-0.0009020942975529846"
      ]
     },
     "execution_count": 53,
     "metadata": {},
     "output_type": "execute_result"
    }
   ],
   "source": [
    "clean.cov()[\"for_credits\"][\"student_star\"]"
   ]
  },
  {
   "cell_type": "code",
   "execution_count": 54,
   "metadata": {},
   "outputs": [
    {
     "data": {
      "text/plain": [
       "Ttest_indResult(statistic=-0.17072503375599124, pvalue=0.8644423566682637)"
      ]
     },
     "execution_count": 54,
     "metadata": {},
     "output_type": "execute_result"
    }
   ],
   "source": [
    "stats.ttest_ind(clean[\"student_star\"][clean[\"for_credits\"] == 1],\n",
    "               clean[\"student_star\"][clean[\"for_credits\"] == 0])"
   ]
  },
  {
   "cell_type": "code",
   "execution_count": 55,
   "metadata": {},
   "outputs": [
    {
     "data": {
      "image/png": "[encoded data removed]",
      "text/plain": [
       "<Figure size 720x648 with 2 Axes>"
      ]
     },
     "metadata": {},
     "output_type": "display_data"
    }
   ],
   "source": [
    "mean_rate1 = clean[\"student_star\"].mean()\n",
    "\n",
    "not_for_credit = clean.query(\"student_star <= @mean_rate1\")[\"for_credits\"].value_counts().sort_index()\n",
    "for_credit = clean.query(\"student_star >= @mean_rate1\")[\"for_credits\"].value_counts().sort_index()\n",
    "\n",
    "plt.figure(figsize = (10,9))\n",
    "\n",
    "plt.subplot(1, 2, 1)\n",
    "plt.pie(not_for_credit, labels = [\"No\", \"Yes\"], colors = [\"#ff9999\",\"#66b3ff\"], autopct = \"%1.1f%%\", shadow=True, startangle=90)\n",
    "plt.title(\"Not for credit\", fontsize = 20)\n",
    "\n",
    "plt.subplot(1, 2, 2)\n",
    "plt.pie(for_credit, labels = [\"No\", \"Yes\"], colors = [\"#ff9999\", \"#66b3ff\"], autopct = \"%1.1f%%\", shadow=True, startangle=90)\n",
    "plt.title(\"For credit\", fontsize = 20)\n",
    "\n",
    "plt.show()"
   ]
  },
  {
   "cell_type": "markdown",
   "metadata": {},
   "source": [
    "- From the t-test result, it showed that for_credits is not significant to the student_star rating. \n",
    "- The correlation and coviarance show no relationship\n",
    "- The pie chart show that for_credits does not affect the student_star. "
   ]
  },
  {
   "cell_type": "markdown",
   "metadata": {},
   "source": [
    "## 3.2 Would take agains\n",
    "- Will the students who are willing to take the coursse again that give higher mark for student_star?"
   ]
  },
  {
   "cell_type": "code",
   "execution_count": 56,
   "metadata": {},
   "outputs": [
    {
     "data": {
      "text/plain": [
       "count     2684\n",
       "unique       2\n",
       "top        Yes\n",
       "freq      2018\n",
       "Name: would_take_agains, dtype: object"
      ]
     },
     "execution_count": 56,
     "metadata": {},
     "output_type": "execute_result"
    }
   ],
   "source": [
    "clean[\"would_take_agains\"].describe()"
   ]
  },
  {
   "cell_type": "code",
   "execution_count": 57,
   "metadata": {},
   "outputs": [
    {
     "data": {
      "text/plain": [
       "11837"
      ]
     },
     "execution_count": 57,
     "metadata": {},
     "output_type": "execute_result"
    }
   ],
   "source": [
    "clean[\"would_take_agains\"].isnull().sum()"
   ]
  },
  {
   "cell_type": "code",
   "execution_count": 58,
   "metadata": {},
   "outputs": [],
   "source": [
    "clean[\"would_take_agains\"].fillna(\"Unknown\", inplace = True)"
   ]
  },
  {
   "cell_type": "code",
   "execution_count": 59,
   "metadata": {},
   "outputs": [
    {
     "data": {
      "text/plain": [
       "0        Unknown\n",
       "7        Unknown\n",
       "8        Unknown\n",
       "11       Unknown\n",
       "12       Unknown\n",
       "          ...   \n",
       "19680    Unknown\n",
       "19681    Unknown\n",
       "19682        Yes\n",
       "19683    Unknown\n",
       "19684    Unknown\n",
       "Name: would_take_agains, Length: 14521, dtype: object"
      ]
     },
     "execution_count": 59,
     "metadata": {},
     "output_type": "execute_result"
    }
   ],
   "source": [
    "clean[\"would_take_agains\"]"
   ]
  },
  {
   "cell_type": "code",
   "execution_count": 60,
   "metadata": {},
   "outputs": [
    {
     "data": {
      "text/html": [
       "<div>\n",
       "<style scoped>\n",
       "    .dataframe tbody tr th:only-of-type {\n",
       "        vertical-align: middle;\n",
       "    }\n",
       "\n",
       "    .dataframe tbody tr th {\n",
       "        vertical-align: top;\n",
       "    }\n",
       "\n",
       "    .dataframe thead th {\n",
       "        text-align: right;\n",
       "    }\n",
       "</style>\n",
       "<table border=\"1\" class=\"dataframe\">\n",
       "  <thead>\n",
       "    <tr style=\"text-align: right;\">\n",
       "      <th>student_star</th>\n",
       "      <th>1.0</th>\n",
       "      <th>1.5</th>\n",
       "      <th>2.0</th>\n",
       "      <th>2.5</th>\n",
       "      <th>3.0</th>\n",
       "      <th>3.5</th>\n",
       "      <th>4.0</th>\n",
       "      <th>4.5</th>\n",
       "      <th>5.0</th>\n",
       "    </tr>\n",
       "    <tr>\n",
       "      <th>would_take_agains</th>\n",
       "      <th></th>\n",
       "      <th></th>\n",
       "      <th></th>\n",
       "      <th></th>\n",
       "      <th></th>\n",
       "      <th></th>\n",
       "      <th></th>\n",
       "      <th></th>\n",
       "      <th></th>\n",
       "    </tr>\n",
       "  </thead>\n",
       "  <tbody>\n",
       "    <tr>\n",
       "      <th>No</th>\n",
       "      <td>350</td>\n",
       "      <td>0</td>\n",
       "      <td>180</td>\n",
       "      <td>0</td>\n",
       "      <td>109</td>\n",
       "      <td>0</td>\n",
       "      <td>22</td>\n",
       "      <td>0</td>\n",
       "      <td>5</td>\n",
       "    </tr>\n",
       "    <tr>\n",
       "      <th>Unknown</th>\n",
       "      <td>1136</td>\n",
       "      <td>598</td>\n",
       "      <td>691</td>\n",
       "      <td>545</td>\n",
       "      <td>658</td>\n",
       "      <td>682</td>\n",
       "      <td>1301</td>\n",
       "      <td>1748</td>\n",
       "      <td>4478</td>\n",
       "    </tr>\n",
       "    <tr>\n",
       "      <th>Yes</th>\n",
       "      <td>1</td>\n",
       "      <td>0</td>\n",
       "      <td>8</td>\n",
       "      <td>2</td>\n",
       "      <td>75</td>\n",
       "      <td>32</td>\n",
       "      <td>414</td>\n",
       "      <td>111</td>\n",
       "      <td>1375</td>\n",
       "    </tr>\n",
       "  </tbody>\n",
       "</table>\n",
       "</div>"
      ],
      "text/plain": [
       "student_star        1.0  1.5  2.0  2.5  3.0  3.5   4.0   4.5   5.0\n",
       "would_take_agains                                                 \n",
       "No                  350    0  180    0  109    0    22     0     5\n",
       "Unknown            1136  598  691  545  658  682  1301  1748  4478\n",
       "Yes                   1    0    8    2   75   32   414   111  1375"
      ]
     },
     "execution_count": 60,
     "metadata": {},
     "output_type": "execute_result"
    }
   ],
   "source": [
    "pd.crosstab(clean[\"would_take_agains\"], clean[\"student_star\"])"
   ]
  },
  {
   "cell_type": "markdown",
   "metadata": {},
   "source": [
    "- For those who won't take agains, most of the student rating is below 3 and largely in 1.\n",
    "- For those who would tale agains, most of the student rating is higher or equal to 4. Many of student_star in 5 would take it again."
   ]
  },
  {
   "cell_type": "code",
   "execution_count": 61,
   "metadata": {},
   "outputs": [
    {
     "data": {
      "text/plain": [
       "0        0\n",
       "7        0\n",
       "8        0\n",
       "11       0\n",
       "12       0\n",
       "        ..\n",
       "19680    0\n",
       "19681    0\n",
       "19682    1\n",
       "19683    0\n",
       "19684    0\n",
       "Name: would_take_agains, Length: 14521, dtype: int64"
      ]
     },
     "execution_count": 61,
     "metadata": {},
     "output_type": "execute_result"
    }
   ],
   "source": [
    "transform2 = {\"No\":0, \"Unknown\":0, \"Yes\":1}\n",
    "clean[\"would_take_agains\"]= clean[\"would_take_agains\"].replace(transform2)\n",
    "clean[\"would_take_agains\"]"
   ]
  },
  {
   "cell_type": "code",
   "execution_count": 62,
   "metadata": {},
   "outputs": [
    {
     "data": {
      "text/plain": [
       "0.24491742718567508"
      ]
     },
     "execution_count": 62,
     "metadata": {},
     "output_type": "execute_result"
    }
   ],
   "source": [
    "clean.corr()[\"would_take_agains\"][\"student_star\"]"
   ]
  },
  {
   "cell_type": "code",
   "execution_count": 63,
   "metadata": {},
   "outputs": [
    {
     "data": {
      "text/plain": [
       "0.11893312629965186"
      ]
     },
     "execution_count": 63,
     "metadata": {},
     "output_type": "execute_result"
    }
   ],
   "source": [
    "clean.cov()[\"would_take_agains\"][\"student_star\"]"
   ]
  },
  {
   "cell_type": "code",
   "execution_count": 64,
   "metadata": {},
   "outputs": [
    {
     "data": {
      "text/plain": [
       "Ttest_indResult(statistic=30.43831060848312, pvalue=2.5407512929234993e-197)"
      ]
     },
     "execution_count": 64,
     "metadata": {},
     "output_type": "execute_result"
    }
   ],
   "source": [
    "stats.ttest_ind(clean[\"student_star\"][clean[\"would_take_agains\"] == 1],\n",
    "               clean[\"student_star\"][clean[\"would_take_agains\"] == 0])"
   ]
  },
  {
   "cell_type": "markdown",
   "metadata": {},
   "source": [
    "- Based on the t-test result, it shows that \"would_take_agains\" is significant affecting in 'student_star\"\n",
    "- The covariance and correlation show that a low positive relationship."
   ]
  }
 ],
 "metadata": {
  "kernelspec": {
   "display_name": "Python 3",
   "language": "python",
   "name": "python3"
  },
  "language_info": {
   "codemirror_mode": {
    "name": "ipython",
    "version": 3
   },
   "file_extension": ".py",
   "mimetype": "text/x-python",
   "name": "python",
   "nbconvert_exporter": "python",
   "pygments_lexer": "ipython3",
   "version": "3.8.3"
  }
 },
 "nbformat": 4,
 "nbformat_minor": 4
}
